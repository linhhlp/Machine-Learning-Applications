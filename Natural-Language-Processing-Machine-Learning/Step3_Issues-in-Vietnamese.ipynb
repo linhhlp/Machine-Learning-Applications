{
 "cells": [
  {
   "cell_type": "markdown",
   "id": "dfd53c25",
   "metadata": {},
   "source": [
    "# 3. NLP & ML Issues in Vietnamese"
   ]
  },
  {
   "cell_type": "markdown",
   "id": "0675ea04",
   "metadata": {},
   "source": [
    "## Introduction\n",
    "There are many difficulties with developing NLP and applying Machine Learning in Vietnamese.\n",
    "\n",
    "### Vietnamese Word Segmentation\n",
    "\n",
    "The word \"Friend\" in English means \"Bạn Bè\" which consists of two single words (morphological unit). When tokenizing these words, they mean differently. Therefore, we need to pre-process data so that the machine understands these as a single word. For example, we can use an underscore to connect them. \n",
    "However, preparing large data with high accuracy is a heavy task and can be costly. We can use traditional tools (statistics-based) to run on original data.\n",
    "\n",
    "### Named-Entity Recognition\n",
    "\n",
    "There are many common and popular names of people, organizations, or locations in Vietnamese which are shared as casual words. For example, \"John\" is a name when people mention it, however, \"Hoa\" could be a popular name for a girl or flower in Vietnamese.\n",
    "\n",
    "### Accent \n",
    "\n",
    "Vietnamese words, which have the same base, have a different meanings. For example, \"Bạn\" means \"Friend\", and \"Bàn\" means \"Table\". There are many variations from accented words meaning there are different meanings. \n",
    "\n",
    "Especially in the case of the written word, the position of the accent could be placed at different vowels leading to inconsistency.\n",
    "\n",
    "When feeding ML, one needs to take into account these challenges.\n",
    "\n",
    "### Part-of-Speech Tagging\n",
    "\n",
    "One sentence could be interpreted in many meanings depending on its context and the words/sentences surrounding it. This ambiguity must be considered before an accurate translation is made.\n",
    "\n",
    "\n"
   ]
  },
  {
   "attachments": {},
   "cell_type": "markdown",
   "id": "790f7a00",
   "metadata": {},
   "source": [
    "## Solution and Idea\n",
    "\n",
    "To solve these challenges, we could implement some smaller neural network as transformer. We also could build encoder-decoder models to tokenize words or add accent to an unaccented word to restore its meaning corectly.\n"
   ]
  },
  {
   "cell_type": "markdown",
   "id": "e61fea19",
   "metadata": {},
   "source": [
    "## References\n",
    "\n",
    "https://www.1stopasia.com/blog/challenges-developing-nlp-for-vietnamese/\n",
    "\n",
    "https://arxiv.org/abs/1706.03762\n",
    "\n",
    "https://kikaben.com/transformers-encoder-decoder/\n",
    "\n",
    "https://duongnt.com/restore-vietnamese-diacritics-vie/\n",
    "\n",
    "https://blog.luyencode.net/phan-loai-van-ban-tieng-viet/"
   ]
  },
  {
   "cell_type": "code",
   "execution_count": null,
   "id": "f8d09527",
   "metadata": {},
   "outputs": [],
   "source": []
  }
 ],
 "metadata": {
  "kernelspec": {
   "display_name": "Python 3 (ipykernel)",
   "language": "python",
   "name": "python3"
  },
  "language_info": {
   "codemirror_mode": {
    "name": "ipython",
    "version": 3
   },
   "file_extension": ".py",
   "mimetype": "text/x-python",
   "name": "python",
   "nbconvert_exporter": "python",
   "pygments_lexer": "ipython3",
   "version": "3.8.16"
  }
 },
 "nbformat": 4,
 "nbformat_minor": 5
}
