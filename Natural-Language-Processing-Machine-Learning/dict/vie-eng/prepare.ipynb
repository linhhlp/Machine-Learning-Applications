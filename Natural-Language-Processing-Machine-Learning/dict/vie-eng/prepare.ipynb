{
 "cells": [
  {
   "cell_type": "code",
   "execution_count": null,
   "id": "fc157801",
   "metadata": {
    "scrolled": false
   },
   "outputs": [],
   "source": [
    "import io\n",
    "path = \"vie.txt\"\n",
    "lines = io.open(path, encoding='UTF-8').read().strip().split('\\n')\n",
    "new = []\n",
    "for l in lines:\n",
    "    new.append('\\t'.join(l.split('\\t')[:2]))\n",
    "\n",
    "print(new)"
   ]
  },
  {
   "cell_type": "code",
   "execution_count": 5,
   "id": "f71eb529",
   "metadata": {},
   "outputs": [],
   "source": [
    "with open(\"vie2.txt\", \"w\", encoding='UTF-8') as txt_file:\n",
    "    for line in new:\n",
    "        txt_file.write(line + \"\\n\")"
   ]
  },
  {
   "cell_type": "code",
   "execution_count": null,
   "id": "8c883231",
   "metadata": {},
   "outputs": [],
   "source": []
  }
 ],
 "metadata": {
  "kernelspec": {
   "display_name": "Python 3 (ipykernel)",
   "language": "python",
   "name": "python3"
  },
  "language_info": {
   "codemirror_mode": {
    "name": "ipython",
    "version": 3
   },
   "file_extension": ".py",
   "mimetype": "text/x-python",
   "name": "python",
   "nbconvert_exporter": "python",
   "pygments_lexer": "ipython3",
   "version": "3.9.12"
  }
 },
 "nbformat": 4,
 "nbformat_minor": 5
}
