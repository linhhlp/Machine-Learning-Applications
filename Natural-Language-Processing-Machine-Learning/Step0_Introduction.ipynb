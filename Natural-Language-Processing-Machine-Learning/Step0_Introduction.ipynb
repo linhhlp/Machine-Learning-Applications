{
 "cells": [
  {
   "cell_type": "markdown",
   "id": "dfd53c25",
   "metadata": {},
   "source": [
    "# Machine Learning: Natural Language Processing"
   ]
  },
  {
   "cell_type": "markdown",
   "id": "13536e6e",
   "metadata": {},
   "source": [
    "## Overview\n",
    "\n",
    "The Program is broken into several sections, which are each presented in their own notebook:\n",
    "\n",
    "0.  [Introduction](Step0_Introduction.ipynb)\n",
    "1.  [Sequence to Sequence Model](Step1_Seq2seq-model.ipynb)\n",
    "2.  [Translation model](Step2_Translator.ipynb)\n",
    "3.  [ML Issues in Vietnamese](Step3_Issues-in-Vietnamese.ipynb)\n",
    "4.  [Demo of API from OpenAI](Step4_openAI-API.ipynb)\n",
    "5.  [Demo of API from Cohere](Step5_Cohere.AI-API.ipynb)"
   ]
  },
  {
   "cell_type": "markdown",
   "id": "0675ea04",
   "metadata": {},
   "source": [
    "## Introduction"
   ]
  },
  {
   "cell_type": "markdown",
   "id": "f450f0f0",
   "metadata": {},
   "source": [
    "Natural language processing (NLP) has been used widely for a very long time ago. However, recently with the high development of Machine Learning, NLP becomes one of the most important tasks in the industry and is used by many giant companies including Google, Amazon, Apple, and Meta. These companies have dedicated teams researching and developing state-of-the-art algorithms and models. Recently, OpenAI gathers a lot of attention by providing their ChatGPT and API for developers. These enhancements show a fast pace picture of NLP industries and the bright future of NLP.\n",
    "\n",
    "In this project, I will develop a basic NLP model - seq2seq framework and show a demo of API from OpenAI."
   ]
  },
  {
   "cell_type": "markdown",
   "id": "9482f801",
   "metadata": {},
   "source": [
    "## Setup"
   ]
  },
  {
   "cell_type": "markdown",
   "id": "2d62a598",
   "metadata": {},
   "source": [
    "### Clone or download the repo\n",
    "First get local copies of the program:\n",
    "\n",
    "```\n",
    "$ git clone https://github.com/linhhlp/nlp-ml-1.git\n",
    "```\n",
    "\n",
    "Or download from: https://github.com/linhhlp/nlp-ml-1/archive/main.zip\n",
    "\n",
    "### Install the dependencies\n",
    "\n",
    "This program has been developed and tested on:\n",
    "\n",
    "* python 3.8\n",
    "* notebook 6.4.6\n",
    "* numpy 1.21.5\n",
    "* tensorflow 2.5.0\n",
    "* tensorflow-gpu 2.5.0\n",
    "* tensorflow-addons 0.13.0 (only work with tensorflow versions between 2.3 and below 2.6)\n",
    "* sklearn 1.0.2\n",
    "\n",
    "The quickest, easiest way to install is to use Anaconda:\n",
    "\n",
    "#### Installing with anaconda\n",
    "\n",
    "Install [anaconda](http://anaconda.com/downloads)\n",
    "\n",
    "The quickest, easiest way to install dependencies is to use the command line to create an environment and install the packages:\n",
    "\n",
    "```bash\n",
    "$ conda env create\n",
    "$ source activate new_env\n",
    "```\n",
    "\n",
    "Install the remaining dependencies with:\n",
    "\n",
    "```bash\n",
    "conda install tensorflow sklearn seaborn\n",
    "pip install tensorflow-addons\n",
    "```"
   ]
  },
  {
   "cell_type": "markdown",
   "id": "15ce6fe6",
   "metadata": {},
   "source": [
    "## References"
   ]
  },
  {
   "cell_type": "markdown",
   "id": "d8736040",
   "metadata": {},
   "source": [
    "[1] Natural Language Processing with Machine Learning https://www.educative.io/module/nlp-with-ml\n",
    "\n",
    "[2] TensorFlow Manual and Tutorial: https://www.tensorflow.org/addons/tutorials/networks_seq2seq_nmt\n",
    "\n",
    "[3] ML in Vietnamese Blog https://blog.luyencode.net/phan-loai-van-ban-tieng-viet/\n",
    "\n",
    "[4] https://medium.com/@Aj.Cheng/seq2seq-18a0730d1d77\n",
    "\n",
    "[5] How to Develop an Encoder-Decoder Model https://machinelearningmastery.com/develop-encoder-decoder-model-sequence-sequence-prediction-keras/"
   ]
  },
  {
   "cell_type": "code",
   "execution_count": null,
   "id": "b6c36002",
   "metadata": {},
   "outputs": [],
   "source": []
  }
 ],
 "metadata": {
  "kernelspec": {
   "display_name": "Python 3 (ipykernel)",
   "language": "python",
   "name": "python3"
  },
  "language_info": {
   "codemirror_mode": {
    "name": "ipython",
    "version": 3
   },
   "file_extension": ".py",
   "mimetype": "text/x-python",
   "name": "python",
   "nbconvert_exporter": "python",
   "pygments_lexer": "ipython3",
   "version": "3.9.12"
  }
 },
 "nbformat": 4,
 "nbformat_minor": 5
}
