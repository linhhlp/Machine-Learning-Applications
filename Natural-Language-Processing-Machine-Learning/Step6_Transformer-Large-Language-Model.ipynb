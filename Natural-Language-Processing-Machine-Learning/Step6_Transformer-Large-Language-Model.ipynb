{
 "cells": [
  {
   "attachments": {},
   "cell_type": "markdown",
   "id": "dfd53c25",
   "metadata": {},
   "source": [
    "# 6. Transformer and Large Language Model\n",
    "\n",
    "**Under development**"
   ]
  },
  {
   "attachments": {},
   "cell_type": "markdown",
   "id": "0675ea04",
   "metadata": {},
   "source": [
    "## Introduction\n",
    "\n",
    "Recently, model Transformer is popular because is performing better and faster than RNN encoder-decoder models.\n",
    "\n",
    "![transformer](transformer-architecture.png)\n",
    "\n",
    "## Large Language Model\n",
    "\n",
    "LLMs are among the most successful applications of transformer models\n"
   ]
  },
  {
   "attachments": {},
   "cell_type": "markdown",
   "id": "790f7a00",
   "metadata": {},
   "source": [
    "## Solution and Idea\n",
    "\n",
    "\n",
    "\n"
   ]
  },
  {
   "attachments": {},
   "cell_type": "markdown",
   "id": "e61fea19",
   "metadata": {},
   "source": [
    "## References\n",
    "\n"
   ]
  },
  {
   "cell_type": "code",
   "execution_count": null,
   "id": "f8d09527",
   "metadata": {},
   "outputs": [],
   "source": [
    "https://blogs.nvidia.com/blog/2022/03/25/what-is-a-transformer-model/\n",
    "\n",
    "https://blogs.nvidia.com/blog/2023/01/26/what-are-large-language-models-used-for/"
   ]
  }
 ],
 "metadata": {
  "kernelspec": {
   "display_name": "Python 3 (ipykernel)",
   "language": "python",
   "name": "python3"
  },
  "language_info": {
   "codemirror_mode": {
    "name": "ipython",
    "version": 3
   },
   "file_extension": ".py",
   "mimetype": "text/x-python",
   "name": "python",
   "nbconvert_exporter": "python",
   "pygments_lexer": "ipython3",
   "version": "3.8.16"
  }
 },
 "nbformat": 4,
 "nbformat_minor": 5
}
