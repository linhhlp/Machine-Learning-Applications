{
 "cells": [
  {
   "cell_type": "markdown",
   "id": "80f3e367",
   "metadata": {},
   "source": [
    "# Customer Sentiment Measurement with CoHere"
   ]
  },
  {
   "cell_type": "markdown",
   "id": "58c5a682",
   "metadata": {},
   "source": [
    "## Introduction\n",
    "\n",
    "It's important to keep track of customer sentiment which allows us to understand overall customer satisfaction and their engagement intent. For example, negative mentions on social media and other websites, Facebook or Twitter, can ruin our online reputation and can lead to long-term impacts if we do not take action in time.\n",
    "\n",
    "In this project, let's use NLP API from CoHere to analyze customer attitudes toward our brand or products.\n",
    "\n",
    "## Scraping Data from Internet\n",
    "\n",
    "There are many services as well as libraries supporting crawling and extracting data from the web. There are libraries that let us do web scraping with Python including Scrapy, Urllib, BeautifulSoup (BS4), and LXML.\n",
    "\n",
    "I assume we already build this platform and have data available in a topic of Kafka."
   ]
  },
  {
   "cell_type": "markdown",
   "id": "bdc9c7f8",
   "metadata": {},
   "source": [
    "### Get new Data from Kafka Topic\n",
    "```python\n",
    "# Import KafkaConsumer from Kafka library\n",
    "from kafka import KafkaConsumer\n",
    "\n",
    "consumer = KafkaConsumer(\n",
    "     bootstrap_servers=['localhost:9092'],\n",
    "     auto_offset_reset='earliest',\n",
    "     group_id='my-consumer-1',\n",
    ")\n",
    "consumer.subscribe(['topicName'])\n",
    "\n",
    "while True:\n",
    "    try:\n",
    "        records = consumer.poll(10000, 500)\n",
    "        if records:\n",
    "            for message in records.values():\n",
    "                processSentiment(message)\n",
    "```"
   ]
  },
  {
   "cell_type": "markdown",
   "id": "018a5139",
   "metadata": {},
   "source": [
    "### Process Data\n",
    "\n",
    "Now we have data from one webpage, we can process data and save it if needed.\n"
   ]
  },
  {
   "cell_type": "code",
   "execution_count": 1,
   "id": "d6b36db1",
   "metadata": {},
   "outputs": [],
   "source": [
    "message = {\n",
    "    \"url\": \"http://original_url.com\",\n",
    "    \"time\": \"timestamp\",\n",
    "    \"content\": \"This is a review about something\",\n",
    "}"
   ]
  },
  {
   "cell_type": "markdown",
   "id": "e9c97dee",
   "metadata": {},
   "source": [
    "### Target: Names of Brand or Product\n",
    "\n",
    "We want to keep track of these names of brands or products we are interested"
   ]
  },
  {
   "cell_type": "code",
   "execution_count": 2,
   "id": "f91e1cf9",
   "metadata": {},
   "outputs": [],
   "source": [
    "target = [\"bissell\", \"Bissell\"]"
   ]
  },
  {
   "cell_type": "markdown",
   "id": "14ea5048",
   "metadata": {},
   "source": [
    "### Setup Libraries and Functions"
   ]
  },
  {
   "cell_type": "code",
   "execution_count": 3,
   "id": "80440400",
   "metadata": {},
   "outputs": [],
   "source": [
    "import cohere\n",
    "from cohere.classify import Example\n",
    "\n",
    "API_key = 'D---------------g' # get free Trial API Key at https://cohere.ai/\n",
    "\n",
    "co = cohere.Client(API_key) \n",
    "\n",
    "examples=[\n",
    "    Example(\"I like this\", \"Positive\"),\n",
    "    Example(\"I hate this\", \"Negative\"),\n",
    "    Example(\"It is okay\", \"Neutral\"),\n",
    "    Example(\"it's good\", \"Positive\"),\n",
    "    Example(\"It's dead\", \"Negative\"),\n",
    "    Example(\"Not very strong\", \"Neutral\"),\n",
    "]\n",
    "\n",
    "def classify(inputs):\n",
    "    response = co.classify(model='large',  \n",
    "                           inputs=inputs,  \n",
    "                           examples=examples)\n",
    "    return response.classifications\n",
    "\n",
    "def summarize(text):\n",
    "    response = co.summarize(model='summarize-xlarge',  \n",
    "                            length='short',\n",
    "                            text=text)\n",
    "    return response.summary\n",
    "\n",
    "def detect_language(texts):\n",
    "    response = co.detect_language(texts=texts)\n",
    "    return response.results[0].language_name"
   ]
  },
  {
   "cell_type": "markdown",
   "id": "d5da9a5d",
   "metadata": {},
   "source": [
    "### Processing each Data from a WebPage"
   ]
  },
  {
   "cell_type": "code",
   "execution_count": 4,
   "id": "12e8e5af",
   "metadata": {},
   "outputs": [],
   "source": [
    "def processSentiment(message):\n",
    "    content = message[\"content\"]\n",
    "    # Detect the language and only process if it is in 'English'\n",
    "    if detect_language([content]) != \"English\":\n",
    "        return\n",
    "    # first, split into a list of word\n",
    "    # tokens = co.tokenize(text=content).token_strings\n",
    "    tokens = content.split()\n",
    "    # detect if target in this tokens by building hash table\n",
    "    #     We also can do Aho–Corasick algorithm in large data\n",
    "    found = False\n",
    "    unique = {word.strip().lower() for word in tokens}\n",
    "    for word in target:\n",
    "        if word in unique:\n",
    "            found = True\n",
    "            break\n",
    "    if found:\n",
    "        # let's find out the sentiment\n",
    "        sentiment = classify([content])[0].prediction\n",
    "\n",
    "        # let's make content concise\n",
    "        summary = summarize(content)\n",
    "\n",
    "        print(summary + \": \" + sentiment)\n",
    "\n",
    "        # Then save this result to a DataBase\n",
    "        # saveToDatabase(message, sentiment, summary)"
   ]
  },
  {
   "cell_type": "markdown",
   "id": "7f13b968",
   "metadata": {},
   "source": [
    "## Testing"
   ]
  },
  {
   "cell_type": "code",
   "execution_count": 5,
   "id": "58485d12",
   "metadata": {},
   "outputs": [
    {
     "name": "stdout",
     "output_type": "stream",
     "text": [
      "Bissell is amazing at ridding your home of cat urine.: Positive\n"
     ]
    }
   ],
   "source": [
    "# An real review from Amazon of a product.\n",
    "message[\"content\"] = (\n",
    "    \"So, I’m the chosen human of an ornery old cat. \\n\"\n",
    "    \"This cat has begun presenting his disgust of the world by spraying \"\n",
    "    \"various locations of our home with the most foul of liquids. \\n\\n\"\n",
    "    \"And this Bissell device is absolutely AMAZING at ridding our \"\n",
    "    \"home of his leavings.\"\n",
    ")\n",
    "\n",
    "processSentiment(message)"
   ]
  },
  {
   "cell_type": "code",
   "execution_count": null,
   "id": "a9fdb752",
   "metadata": {},
   "outputs": [],
   "source": []
  }
 ],
 "metadata": {
  "kernelspec": {
   "display_name": "Python 3 (ipykernel)",
   "language": "python",
   "name": "python3"
  },
  "language_info": {
   "codemirror_mode": {
    "name": "ipython",
    "version": 3
   },
   "file_extension": ".py",
   "mimetype": "text/x-python",
   "name": "python",
   "nbconvert_exporter": "python",
   "pygments_lexer": "ipython3",
   "version": "3.9.12"
  }
 },
 "nbformat": 4,
 "nbformat_minor": 5
}
