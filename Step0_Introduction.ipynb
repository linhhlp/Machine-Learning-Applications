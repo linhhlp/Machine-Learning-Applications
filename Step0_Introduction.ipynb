{
 "cells": [
  {
   "cell_type": "markdown",
   "id": "dfd53c25",
   "metadata": {},
   "source": [
    "# Recommendation systems & Tools for Data Imputation"
   ]
  },
  {
   "cell_type": "markdown",
   "id": "13536e6e",
   "metadata": {},
   "source": [
    "## Overview\n",
    "\n",
    "The Program is divided into several sections, which are each presented in their own notebook:\n",
    "\n",
    "1. [Introduction](Step0_Introduction.ipynb)\n",
    "2. [Checking Data](Step1_Check-quality-data.ipynb)\n",
    "3. [Visualizing Data](Step2_Visualize-data.ipynb)\n",
    "4. [Building Models](Step3_Build-model.ipynb)"
   ]
  },
  {
   "cell_type": "markdown",
   "id": "0675ea04",
   "metadata": {},
   "source": [
    "## Introduction"
   ]
  },
  {
   "cell_type": "markdown",
   "id": "f450f0f0",
   "metadata": {},
   "source": [
    "Welcome to my personal project about popular tools to ease the process of imputing data. The work is demonstrated in the case of recommendation systems based on Amazon reviews.\n",
    "\n",
    "Nowadays, recommendation systems are one of the most important keys for the success of e-commerce platforms such as Amazon and other online retailers, because:\n",
    "\n",
    "1. It recommends the user find the right product.\n",
    "\n",
    "2. It recommends the users to other interesting products which can increase the user's engagement. For example, there are 40% more clicks on Google News due to recommendations.\n",
    "\n",
    "3. It helps the item providers to deliver the items to the right user. On Amazon, 35 % of products get sold due to recommendations.\n",
    "\n",
    "4. It recommends the users based on their liking to make the content more personalized. On Netflix, most of the rented movies are from recommendations.\n",
    "\n",
    "Missing data is a real-world problem and often happens with every type of data. Many reasons cause this issue, such as inconsistently collecting information, damaged data due to crashed storage or on the way moving, human errors and biases, conflicts between datasets. It is problematic because complete data is needed to be analyzed accurately.\n",
    "\n",
    "Simply deleting missing records is not work well in many cases, especially the missing data takes a large proportion or in a small dataset. Hence, Data Imputation is very important in Machine Learning. It helps reserve data and makes more meaningful out of missing data. Data Engineers or Scientists could check the data quality manually and find out missing data. After that, they can clean it by filling empty values with less meaningful values such as the Average, Mean, or Mode.\n",
    "\n",
    "Besides, some Machine Learning algorithms such as KNN (K – Nearest Neighbour) and SVM (Support Vector Machines) or Random Forest could work well with missing data. KNN uses other fields to cluster by the K nearest values so that it is generally effective to work with missing values. Random Forest manipulates various types of missing data by addressing interactions and nonlinearity to scale to high dimensions. Read more [here](https://www.ncbi.nlm.nih.gov/pmc/articles/PMC5796790/) and [other algorithms here](https://www.researchgate.net/publication/297047624_The_role_of_imputation_in_detecting_fraudulent_financial_reporting)."
   ]
  },
  {
   "cell_type": "markdown",
   "id": "b4499c03",
   "metadata": {},
   "source": [
    "## Types of Recommendation Systems\n",
    "\n",
    "There are mainly 6 types of recommendations systems:\n",
    "\n",
    "1. Popularity-based systems. It works by recommending items viewed and purchased by most people and are rated high. It is not a personalized recommendation.\n",
    "2. Classification model-based. It works by understanding the features of the user and applying the classification algorithm to decide whether the user is interested or not in the product.\n",
    "3. Content-based recommendations. It is based on the information of the content of the items rather than on the user opinions. The main idea is if the user likes an item, then he or she will like the \"other\" similar item.\n",
    "4. Collaborative Filtering. It is based on the assumption that people like things similar to other things they liked, and things that are liked by other people with similar tastes. It is mainly of two types:\n",
    "\n",
    " a) User-User \n",
    " \n",
    " b) Item -Item\n",
    " \n",
    " \n",
    "5. Hybrid Approaches: This system approach combines collaborative filtering, content-based filtering, and other approaches. \n",
    "6. Association rule mining: Association rules capture the relationships between items based on their patterns of co-occurrence across transactions in large databases. It is intended to identify strong rules discovered in databases using some measures of interestingness.\n"
   ]
  },
  {
   "cell_type": "markdown",
   "id": "9482f801",
   "metadata": {},
   "source": [
    "## Setup"
   ]
  },
  {
   "cell_type": "markdown",
   "id": "2d62a598",
   "metadata": {},
   "source": [
    "### Clone or download the repo\n",
    "First get local copies of the program:\n",
    "\n",
    "```\n",
    "$ git clone https://github.com/linhhlp/Recommendation-system-Amazon-review.git\n",
    "```\n",
    "\n",
    "Or download from: https://github.com/linhhlp/Recommendation-system-Amazon-review/archive/main.zip\n",
    "\n",
    "### Install the dependencies\n",
    "\n",
    "This program has been developed and tested on:\n",
    "\n",
    "* python 3.9.10\n",
    "* pandas 1.4.1\n",
    "* notebook 6.4.8\n",
    "* numpy 1.22.2\n",
    "* tensorflow 2.6.0\n",
    "* sklearn 1.0.2\n",
    "* matplotlib: 3.5.1\n",
    "* seaborn 0.11.2\n",
    "* statsmodels 0.13.2\n",
    "\n",
    "The quickest, easiest way to install is to use Anaconda:\n",
    "\n",
    "#### Installing with anaconda\n",
    "\n",
    "Install [anaconda](http://anaconda.com/downloads)\n",
    "\n",
    "The quickest, easiest way to install dependencies is to use the command line to create an environment and install the packages:\n",
    "\n",
    "```bash\n",
    "$ conda env create\n",
    "$ source activate new_env\n",
    "```\n",
    "\n",
    "Install the remaining dependencies with:\n",
    "\n",
    "```bash\n",
    "conda install tensorflow sklearn seaborn\n",
    "```"
   ]
  },
  {
   "cell_type": "markdown",
   "id": "15ce6fe6",
   "metadata": {},
   "source": [
    "## References"
   ]
  },
  {
   "cell_type": "markdown",
   "id": "9be105f3",
   "metadata": {},
   "source": [
    "### Databases\n",
    "\n",
    "The data sources were from [Kaggle](https://www.kaggle.com/datasets/saurav9786/amazon-product-reviews) and [original source](http://jmcauley.ucsd.edu/data/amazon/)\n",
    "\n",
    "**Citations:**\n",
    "1. Ups and downs: Modeling the visual evolution of fashion trends with one-class collaborative filtering\n",
    "\n",
    "R. He, J. McAuley\n",
    "\n",
    "WWW, 2016\n",
    "\n",
    "2. Image-based recommendations on styles and substitutes\n",
    "\n",
    "J. McAuley, C. Targett, J. Shi, A. van den Hengel\n",
    "\n",
    "SIGIR, 2015\n",
    "\n",
    "### Learning Sources\n",
    "\n",
    "1. https://www.kaggle.com/code/saurav9786/recommender-system-using-amazon-reviews/notebook\n",
    "\n",
    "### Imputation Sources\n",
    "\n",
    "\n"
   ]
  }
 ],
 "metadata": {
  "kernelspec": {
   "display_name": "Python 3 (ipykernel)",
   "language": "python",
   "name": "python3"
  },
  "language_info": {
   "codemirror_mode": {
    "name": "ipython",
    "version": 3
   },
   "file_extension": ".py",
   "mimetype": "text/x-python",
   "name": "python",
   "nbconvert_exporter": "python",
   "pygments_lexer": "ipython3",
   "version": "3.9.10"
  }
 },
 "nbformat": 4,
 "nbformat_minor": 5
}
