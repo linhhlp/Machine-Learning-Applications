{
 "cells": [
  {
   "cell_type": "markdown",
   "metadata": {},
   "source": [
    "# Do Vector Search with DataStax on Cassandra"
   ]
  },
  {
   "cell_type": "markdown",
   "metadata": {},
   "source": [
    "In the previous Chapter, we created a new database of movies with vectorized plots.\n",
    "\n",
    "In this Chapter, we will search for movies which are close to the input query."
   ]
  },
  {
   "cell_type": "code",
   "execution_count": 3,
   "metadata": {},
   "outputs": [],
   "source": [
    "import cohere\n",
    "from cassandra import ConsistencyLevel\n",
    "from cassandra.auth import PlainTextAuthProvider\n",
    "from cassandra.cluster import Cluster\n",
    "\n",
    "# get free Trial API Key at https://cohere.ai/\n",
    "from cred import API_key\n",
    "\n",
    "co = cohere.Client(API_key)"
   ]
  },
  {
   "cell_type": "code",
   "execution_count": 5,
   "metadata": {},
   "outputs": [
    {
     "data": {
      "text/plain": [
       "<cassandra.cluster.ResultSet at 0x111448fac10>"
      ]
     },
     "execution_count": 5,
     "metadata": {},
     "output_type": "execute_result"
    }
   ],
   "source": [
    "from cred import (ASTRA_CLIENT_ID, ASTRA_CLIENT_SECRET,\n",
    "                  SECURE_CONNECT_BUNDLE_PATH)\n",
    "\n",
    "KEYSPACE_NAME = \"demo\"\n",
    "\n",
    "cloud_config = {\"secure_connect_bundle\": SECURE_CONNECT_BUNDLE_PATH}\n",
    "auth_provider = PlainTextAuthProvider(ASTRA_CLIENT_ID, ASTRA_CLIENT_SECRET)\n",
    "cluster = Cluster(cloud=cloud_config, auth_provider=auth_provider, protocol_version=4)\n",
    "session = cluster.connect()\n",
    "session.execute(f\"USE {KEYSPACE_NAME};\")"
   ]
  },
  {
   "cell_type": "markdown",
   "metadata": {},
   "source": [
    "# 35K Movies DB"
   ]
  },
  {
   "cell_type": "code",
   "execution_count": 26,
   "metadata": {},
   "outputs": [],
   "source": [
    "TABLE_NAME = \"movies_35K_vectorized\""
   ]
  },
  {
   "cell_type": "code",
   "execution_count": 28,
   "metadata": {},
   "outputs": [],
   "source": [
    "def findMovie(text, method=\"plot_vector_1024\", limit=2):\n",
    "    response = co.embed(model=\"embed-english-light-v2.0\", texts=[text])\n",
    "    vec = response.embeddings[0]\n",
    "    for row in session.execute(\n",
    "    f\"SELECT title, wiki_link, plot FROM {KEYSPACE_NAME}.{TABLE_NAME} \"\n",
    "    f\" ORDER BY {method} ANN OF %s LIMIT {limit}\"\n",
    "    , [vec]\n",
    "):\n",
    "        print(row.title, row.wiki_link)\n",
    "        print(row.plot)\n",
    "        print(\"--------------------------------------------------------\")"
   ]
  },
  {
   "cell_type": "code",
   "execution_count": 29,
   "metadata": {},
   "outputs": [
    {
     "name": "stdout",
     "output_type": "stream",
     "text": [
      "Beauty and the Beast https://en.wikipedia.org/wiki/Beauty_and_the_Beast_(2017_film)\n",
      "A beautiful enchantress disguised as an old beggar woman arrives at a castle during a ball and offers the host, a cruel and selfish prince, a rose in return for shelter from a storm. When he refuses, she reveals her identity. To punish the prince for his selfishness, the enchantress transforms him into a beast and his servants into household objects, then erases the castle, the prince and his servants from the memories of their loved ones. She casts a spell on the rose and warns the prince that the curse will only be broken if he learns to love another, and earn their love in return, before the last petal falls.\n",
      "Some years later, in the small town of Villeneuve, Belle, the book-loving daughter of a music box maker and artist Maurice, dreams of adventure and brushes off advances from Gaston, an arrogant former soldier. On his way to a convention and lost in the forest, Maurice seeks refuge in the Beast's castle, but the Beast imprisons him for stealing a rose from his garden as a gift to Belle. When Maurice's horse returns without him, Belle ventures out in search for him, and finds him locked in the castle dungeon. The Beast agrees to let her take Maurice's place.\n",
      "Belle befriends the castle's servants, who invite her to a spectacular dinner. When she wanders into the forbidden west wing and finds the rose, the Beast scares her into the woods. She is ambushed by a pack of wolves, but the Beast rescues her, and is injured in the process. As Belle nurses his wounds, a friendship develops between them. The Beast shows Belle a gift from the enchantress, a book that transports readers wherever they want. Belle uses the book to visit her childhood home in Paris, where she discovers a plague doctor mask and realizes that she and her father were forced to leave when her mother succumbed to the plague.\n",
      "In Villeneuve, Gaston sees rescuing Belle as an opportunity to win her hand in marriage, and agrees to help Maurice. When Maurice learns of his ulterior motive and rejects him, Gaston abandons him to be eaten by the wolves. Maurice is rescued by the hermit Agathe, but when he tells the townsfolk of Gaston's crime but is unable to provide solid evidence, Gaston convinces them to send Maurice to an insane asylum.\n",
      "After sharing a romantic dance with the Beast, Belle discovers her father's predicament using a magic mirror. The Beast releases her to save Maurice, giving her the mirror to remember him with. At Villeneuve, Belle reveals the Beast in the mirror to the townsfolk, proving her father's sanity. Realizing that Belle loves the Beast, a jealous Gaston claims she has been charmed by dark magic, and has her thrown into the asylum carriage with her father. He rallies the villagers to follow him to the castle to slay the Beast before he curses the whole village. Maurice and Belle escape, and Belle rushes back to the castle.\n",
      "During the battle, Gaston abandons his companion LeFou, who then sides with the servants to fend off the villagers. Gaston attacks the Beast in his tower, who is too depressed to fight back, but regains his spirit upon seeing Belle return. He defeats Gaston, but spares his life before reuniting with Belle. Ungrateful and unrepentant, Gaston fatally shoots the Beast from a bridge, but it collapses when the castle crumbles, and he falls to his death. The Beast dies as the last petal falls, and the servants become inanimate. As Belle tearfully professes her love to the Beast, Agathe reveals herself as the enchantress and undoes the curse, repairing the crumbling castle, and restoring the Beast's and servants' human forms and the villagers' memories. The Prince and Belle host a ball for the kingdom, where they dance happily.\n",
      "--------------------------------------------------------\n",
      "Zoology https://en.wikipedia.org/wiki/Zoology_(film)\n",
      "Natasha lives alone with her mother in a small seaside town. Her life is boring and conventional. In the zoo, where she works, Natasha has long been an object of ridicule. But suddenly a strange metamorphosis occurs with her - for no apparent reason she grows a tail. She has to go through shame, hope and despair to find herself.\n",
      "--------------------------------------------------------\n"
     ]
    }
   ],
   "source": [
    "findMovie(\"fictional beautiful animals\")"
   ]
  },
  {
   "cell_type": "code",
   "execution_count": 30,
   "metadata": {},
   "outputs": [
    {
     "name": "stdout",
     "output_type": "stream",
     "text": [
      "Dream https://en.wikipedia.org/wiki/Dream_(2012_Telugu_film)\n",
      "The story runs around a retired Army officer who did not get to fight the Kargil war. He now lives with his wife in an upscale, gated community spending most of his time playing war video games. The hero suffers from Hypnagogia, a rare medical disorder. He starts dreaming and believes that his dreams are real.\n",
      "There is a story running in his dream and another in his real life. In a particular stage he fails to see the demarcation and these subconscious thoughts play havoc in his life and the people around him. Dream is this journey into the mind of the protagonist. This is a Medical thriller film.\n",
      "--------------------------------------------------------\n",
      "Dream Factory https://en.wikipedia.org/wiki/Dream_Factory_(film)\n",
      "Four friends in Beijing—three men and a woman—start a company which specializes in fulfilling their clients' dreams. Enacting their wildest fantasies, they encounter many oddball clients along the way.\n",
      "--------------------------------------------------------\n"
     ]
    }
   ],
   "source": [
    "findMovie(\"people live in dream\")"
   ]
  },
  {
   "cell_type": "markdown",
   "metadata": {},
   "source": [
    "# Top 250 IMDB\n",
    "\n",
    "I also tried to convert plots of top 250 IMDB movies. However, the plots were only up to 2017.\n"
   ]
  },
  {
   "cell_type": "code",
   "execution_count": 33,
   "metadata": {},
   "outputs": [],
   "source": [
    "TABLE_NAME = \"movies_vectorized\" # Top 250 IMDB"
   ]
  },
  {
   "cell_type": "code",
   "execution_count": 34,
   "metadata": {},
   "outputs": [
    {
     "name": "stdout",
     "output_type": "stream",
     "text": [
      "Inception https://en.wikipedia.org/wiki/Inception\n",
      "Dominick \"Dom\" Cobb and Arthur are \"extractors\", who perform corporate espionage using an experimental military technology to infiltrate the subconscious of their targets and extract valuable information through a shared dream world. Their latest target, Japanese businessman Saito, reveals that he arranged their mission himself to test Cobb for a seemingly impossible job: planting an idea in a person's subconscious, or \"inception\". To break up the energy conglomerate of ailing competitor Maurice Fischer, Saito wants Cobb to convince Fischer's son and heir, Robert, to dissolve his father's company. In return, Saito promises to use his influence to clear Cobb of a murder charge, allowing Cobb to return home to his children. Cobb accepts the offer and assembles his team: Eames, a conman and identity forger; Yusuf, a chemist who concocts a powerful sedative for a stable \"dream within a dream\" strategy; and Ariadne, an architecture student tasked with designing the labyrinth of the dream landscapes, recruited with the help of Cobb's father-in-law, Professor Stephen Miles. While dream-sharing with Cobb, Ariadne learns his subconscious houses an invasive projection of his late wife Mal.\n",
      "When the elder Fischer dies in Sydney, Robert Fischer accompanies the body on a ten-hour flight back to Los Angeles, which the team (including Saito, who wants to verify their success) uses as an opportunity to sedate and take Fischer into a shared dream. At each dream level, the person generating the dream stays behind to set up a \"kick\" that will be used to awaken the other sleeping team members from the deeper dream level; to be successful, these kicks must occur simultaneously at each dream level, a fact complicated due to the nature of time which flows much faster in each successive level. The first level is Yusuf's dream of a rainy Los Angeles. The team abducts Fischer, but they are attacked by armed projections from Fischer's subconscious, which has been specifically trained to defend him against such intruders. The team takes Fischer and a wounded Saito to a warehouse, where Cobb reveals that while dying in the dream would normally wake Saito up, the powerful sedatives needed to stabilize the multi-level dream will instead send a dying dreamer into \"limbo\", a world of infinite subconscious from which escape is extremely difficult, if not impossible, and a dreamer risks forgetting they are in a dream. Despite these setbacks, the team continues with the mission.\n",
      "Eames impersonates Fischer's godfather, Peter Browning, to suggest Fischer reconsider his father's will. Yusuf drives the van as the other dreamers are sedated into the second level. In the second level, a hotel dreamed by Arthur, Cobb persuades Fischer that he has been kidnapped by Browning and Cobb is his subconscious protector. Cobb persuades him to go down another level to explore Browning's subconscious (in reality, it is a ruse to enter Fischer's). The third level is a fortified hospital on a snowy mountain dreamed by Eames. The team has to infiltrate it and hold off the guards as Cobb takes Fischer into the equivalent of his subconscious. Yusuf, under pursuit by Fischer's projections in the first level, deliberately drives off a bridge and initiates his kick too soon. This causes an avalanche in Eames' level and removes the gravity of Arthur's level, forcing him to improvise a new kick synchronized with the van hitting the water. Mal's projection emerges and kills Fischer; Cobb kills Mal, and Saito succumbs to his wounds. Cobb and Ariadne enter Limbo to rescue Fischer and Saito, while Eames sets up a kick by rigging the hospital with explosives.\n",
      "Cobb reveals to Ariadne that he and Mal went to Limbo while experimenting with the dream-sharing technology. Sedated for a few hours of real time, they spent fifty years in a dream constructing a world from their shared memories. When Mal refused to return to reality, Cobb used a rudimentary form of inception by reactivating her totem (an object dreamers use to distinguish dreams from reality) and reminding her subconscious that their world was not real. However, when she woke up, Mal still believed that she was dreaming. In an attempt to \"wake up\" for real, Mal committed suicide and framed Cobb for her death to force him to do the same. Facing a murder charge, Cobb fled the U.S., leaving his children in the care of Professor Miles.\n",
      "Through his confession, Cobb makes peace with his guilt over Mal's death. Ariadne kills Mal's projection and wakes Fischer up with a kick. Revived at the mountain fort, Fischer enters a safe room to discover and accept the planted idea: a projection of his dying father telling him to be his own man. While Cobb remains in Limbo to search for Saito, the other team members ride the synchronized kicks back to reality. Cobb eventually finds an aged Saito in Limbo and reminds him of their agreement. The dreamers all awake on the plane and Saito makes a phone call.\n",
      "Upon arrival at Los Angeles Airport, Cobb passes the U.S. immigration checkpoint and Professor Miles accompanies him to his home. Using his totem—a spinning top that spins indefinitely in a dream world but falls over in reality—Cobb conducts a test to prove that he is indeed in the real world, but he ignores its result and instead joins his children in the garden.\n",
      "--------------------------------------------------------\n",
      "The Matrix https://en.wikipedia.org/wiki/The_Matrix\n",
      "A woman is cornered by police in an abandoned hotel; after overpowering them with superhuman abilities, a group of sinister superhuman grey green-suited Agents leads the police in a rooftop pursuit. She answers a ringing public telephone and vanishes.\n",
      "Computer programmer Thomas Anderson, living a double life as the hacker \"Neo\", feels something is wrong with the world and is puzzled by repeated online encounters with the cryptic phrase \"the Matrix\". The woman, Trinity, contacts him, saying that a man named Morpheus can explain its meaning; however, the Agents, led by Agent Smith, apprehend Neo and attempt to threaten him into helping them capture the \"terrorist\" Morpheus. Undeterred, Neo meets Morpheus, who offers him a choice between a red pill that will show him the truth about the Matrix, and a blue pill that will return him to his former life. After swallowing the red pill, his reality disintegrates and Neo awakens, naked, weak and hairless, in a liquid-filled pod, one of countless others connected by cables to an elaborate electrical system. He is rescued and brought aboard Morpheus' hovercraft, the Nebuchadnezzar.\n",
      "As Neo recuperates, Morpheus explains the truth: in the 21st century, intelligent machines waged war against their human creators. When humans blocked the machines' access to solar energy, the machines retaliated by harvesting the humans' bioelectric power. The Matrix is a shared simulation of the world, in which the minds of the harvested humans are trapped and pacified. All free humans live in Zion, the last refuge in the real world. Morpheus and his crew are a group of rebels who hack into the Matrix to \"unplug\" enslaved humans and recruit them; their understanding of the simulated reality enables them to bend its physical laws, granting them superhuman abilities. Morpheus warns Neo that death within the Matrix also kills the physical body, and that the Agents are powerful sentient programs that eliminate threats to the system. Neo's prowess during virtual combat training lends credence to Morpheus' belief that Neo is \"the One\", an especially powerful human prophesied to free humans and end the war.\n",
      "The group enters the Matrix to visit the Oracle, a prophet who predicted the emergence of the One. She implies that Neo is not the One and warns Neo that he will have to choose between Morpheus' life and his own. Before they can leave the Matrix, the group is ambushed by Agents and tactical police alerted by Cypher, a crew member who betrayed Morpheus to Smith in exchange for a comfortable life back in the Matrix. Morpheus allows himself to be captured so Neo and the rest of the crew can escape. Cypher exits the Matrix and murders several crew members as they lie defenseless in the real world. As he prepares to disconnect Neo and Trinity, Tank, a crewman whom he had left for dead, kills him.\n",
      "In the Matrix, the Agents interrogate Morpheus to learn his access codes to the mainframe computer in Zion. Tank proposes killing Morpheus to prevent this, but Neo, believing that he is not the One, resolves to return to the Matrix to rescue Morpheus; Trinity insists she accompany him. While rescuing Morpheus, Neo gains confidence in his abilities, performing feats comparable to the Agents'. Morpheus and Trinity exit the Matrix, but Smith ambushes and kills Neo before he can leave. In the real world, machines called Sentinels attack the Nebuchadnezzar. Trinity whispers to Neo that he can't be dead because she loves him and the Oracle told her that she would fall in love with the One. She kisses Neo and he revives with the power to perceive and control the Matrix. He effortlessly defeats Smith and leaves the Matrix just as the ship's electromagnetic pulse weapon disables the attacking Sentinels.\n",
      "Later, Neo makes a telephone call inside the Matrix, promising the machines that he will show their prisoners \"a world where anything is possible\". He hangs up and flies into the sky.\n",
      "--------------------------------------------------------\n"
     ]
    }
   ],
   "source": [
    "findMovie(\"people live in dream\", \"item_vector_1024\")"
   ]
  },
  {
   "cell_type": "code",
   "execution_count": null,
   "metadata": {},
   "outputs": [],
   "source": [
    "# Close connection to Cassandra\n",
    "cluster.shutdown()"
   ]
  }
 ],
 "metadata": {
  "kernelspec": {
   "display_name": "Python 3 (ipykernel)",
   "language": "python",
   "name": "python3"
  },
  "language_info": {
   "codemirror_mode": {
    "name": "ipython",
    "version": 3
   },
   "file_extension": ".py",
   "mimetype": "text/x-python",
   "name": "python",
   "nbconvert_exporter": "python",
   "pygments_lexer": "ipython3",
   "version": "3.9.12"
  }
 },
 "nbformat": 4,
 "nbformat_minor": 2
}
