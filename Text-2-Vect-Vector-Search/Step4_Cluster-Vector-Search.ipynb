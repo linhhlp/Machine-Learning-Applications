{
 "cells": [
  {
   "attachments": {},
   "cell_type": "markdown",
   "metadata": {},
   "source": [
    "# Vector Search with Cluster"
   ]
  },
  {
   "attachments": {},
   "cell_type": "markdown",
   "metadata": {},
   "source": [
    "## 1. Introduction\n",
    "In the previous Chapters, we search for a movie based on a unique query, equivalent to only one vector.\n",
    "\n",
    "In cases of multiple queries, how do we optimize the results?\n",
    "\n",
    "For example, the user wants to search for a movie based on a list of movies that they watched in the past.\n",
    "\n",
    "In terms of recommenders, what we can recommend to a user after he has watched a few items/movies/products recently?\n",
    "\n",
    "For example, if a client viewed a couple of products, we want to suggest some products similar to what he viewed in the past.\n",
    "\n",
    "\n",
    "## 2. Approaches\n",
    "\n",
    "**Approaches A.** Find a center point for all vectors of past queries. This point is the closest to all vectors.\n",
    "\n",
    "**Approaches B.** How about the cases where the points scatter? For example, a user watched a comedy and then watched a thriller. A user viewed an electric toothbrush and then viewed a garden chair. These items were in different categories. In this case, we need to cluster them and find the recommendations for each category.\n",
    "\n",
    "We can mix two approaches and rank them based on their distance (similarity) to the history."
   ]
  },
  {
   "attachments": {},
   "cell_type": "markdown",
   "metadata": {},
   "source": [
    "## 3. Demo\n",
    "### Set up\n"
   ]
  },
  {
   "cell_type": "code",
   "execution_count": 1,
   "metadata": {},
   "outputs": [
    {
     "data": {
      "text/plain": [
       "<cassandra.cluster.ResultSet at 0x1e536469be0>"
      ]
     },
     "execution_count": 1,
     "metadata": {},
     "output_type": "execute_result"
    }
   ],
   "source": [
    "import cohere\n",
    "from cassandra import ConsistencyLevel\n",
    "from cassandra.auth import PlainTextAuthProvider\n",
    "from cassandra.cluster import Cluster\n",
    "import numpy as np\n",
    "import ast\n",
    "\n",
    "# get free Trial API Key at https://cohere.ai/\n",
    "from cred import API_key\n",
    "co = cohere.Client(API_key)\n",
    "\n",
    "from cred import (ASTRA_CLIENT_ID, ASTRA_CLIENT_SECRET,\n",
    "                  SECURE_CONNECT_BUNDLE_PATH)\n",
    "\n",
    "KEYSPACE_NAME = \"demo\"\n",
    "TABLE_NAME = \"movies_35K_vectorized\"\n",
    "\n",
    "cloud_config = {\"secure_connect_bundle\": SECURE_CONNECT_BUNDLE_PATH}\n",
    "auth_provider = PlainTextAuthProvider(ASTRA_CLIENT_ID, ASTRA_CLIENT_SECRET)\n",
    "cluster = Cluster(cloud=cloud_config, auth_provider=auth_provider, protocol_version=4)\n",
    "session = cluster.connect()\n",
    "session.execute(f\"USE {KEYSPACE_NAME};\")"
   ]
  },
  {
   "cell_type": "code",
   "execution_count": 2,
   "metadata": {},
   "outputs": [],
   "source": [
    "import struct\n",
    "def convert_bytes_to_array_astra(bstring, nbyte=4):\n",
    "    \"\"\"Convert bytes from Cassanda VECTOR type to float array\n",
    "\n",
    "    Parameters\n",
    "    ----------\n",
    "    bstring : input binary string \n",
    "        from Cassanda VECTOR type (SELECT STATEMENT)\n",
    "\n",
    "    nbit: int\n",
    "        number of bytes.\n",
    "        'f4' means 'float32' because it has 4 bytes\n",
    "    Returns\n",
    "    -------\n",
    "    Array[Float]\n",
    "        _description_\n",
    "    \"\"\"\n",
    "    s = b''\n",
    "    size = len(bstring)//nbyte\n",
    "    for i in range(size):\n",
    "        s += bstring[i*nbyte:(i+1)*nbyte][::-1]\n",
    "    # np.frombuffer(s, dtype=np.dtype('f4')) # using numpy.frombuffer\n",
    "    return struct.unpack(size*'f', s)\n",
    "\n",
    "def findMovie(vec, method=\"plot_vector_1024\", limit=2):\n",
    "    \"\"\"Find movies based on Vector Search\"\"\"\n",
    "    data = []\n",
    "    for row in session.execute(\n",
    "        f\"SELECT year, title, wiki_link, plot FROM {KEYSPACE_NAME}.{TABLE_NAME} \"\n",
    "        f\" ORDER BY {method} ANN OF %s LIMIT {limit}\"\n",
    "        , [vec]\n",
    "):\n",
    "        data.append( (row.year, row.title, row.wiki_link, row.plot) )\n",
    "        \n",
    "    return data\n",
    "\n",
    "def filter_movies(viewed, movies):\n",
    "    \"\"\"Filter out the watched movies\"\"\"\n",
    "    viewed = set([(x[0], x[1]) for x in viewed])\n",
    "    res = []\n",
    "    for movie in movies:\n",
    "        if (movie[0], movie[1].strip()) not in viewed:\n",
    "            res.append(movie)\n",
    "            \n",
    "    return res"
   ]
  },
  {
   "cell_type": "code",
   "execution_count": 19,
   "metadata": {},
   "outputs": [
    {
     "data": {
      "text/html": [
       "<div>\n",
       "<style scoped>\n",
       "    .dataframe tbody tr th:only-of-type {\n",
       "        vertical-align: middle;\n",
       "    }\n",
       "\n",
       "    .dataframe tbody tr th {\n",
       "        vertical-align: top;\n",
       "    }\n",
       "\n",
       "    .dataframe thead th {\n",
       "        text-align: right;\n",
       "    }\n",
       "</style>\n",
       "<table border=\"1\" class=\"dataframe\">\n",
       "  <thead>\n",
       "    <tr style=\"text-align: right;\">\n",
       "      <th></th>\n",
       "      <th>year</th>\n",
       "      <th>title</th>\n",
       "      <th>genre</th>\n",
       "    </tr>\n",
       "  </thead>\n",
       "  <tbody>\n",
       "    <tr>\n",
       "      <th>34881</th>\n",
       "      <td>2014</td>\n",
       "      <td>The Water Diviner</td>\n",
       "      <td>unknown</td>\n",
       "    </tr>\n",
       "    <tr>\n",
       "      <th>34882</th>\n",
       "      <td>2017</td>\n",
       "      <td>Çalgı Çengi İkimiz</td>\n",
       "      <td>comedy</td>\n",
       "    </tr>\n",
       "    <tr>\n",
       "      <th>34883</th>\n",
       "      <td>2017</td>\n",
       "      <td>Olanlar Oldu</td>\n",
       "      <td>comedy</td>\n",
       "    </tr>\n",
       "    <tr>\n",
       "      <th>34884</th>\n",
       "      <td>2017</td>\n",
       "      <td>Non-Transferable</td>\n",
       "      <td>romantic comedy</td>\n",
       "    </tr>\n",
       "    <tr>\n",
       "      <th>34885</th>\n",
       "      <td>2017</td>\n",
       "      <td>İstanbul Kırmızısı</td>\n",
       "      <td>romantic</td>\n",
       "    </tr>\n",
       "  </tbody>\n",
       "</table>\n",
       "</div>"
      ],
      "text/plain": [
       "       year               title            genre\n",
       "34881  2014   The Water Diviner          unknown\n",
       "34882  2017  Çalgı Çengi İkimiz           comedy\n",
       "34883  2017        Olanlar Oldu           comedy\n",
       "34884  2017    Non-Transferable  romantic comedy\n",
       "34885  2017  İstanbul Kırmızısı         romantic"
      ]
     },
     "execution_count": 19,
     "metadata": {},
     "output_type": "execute_result"
    }
   ],
   "source": [
    "import pandas as pd\n",
    "filename = \"data/movies_35K_year_title_only.csv\"\n",
    "# a list of titles and years of movies\n",
    "movie_list = pd.read_csv(filename)\n",
    "movie_list.tail()"
   ]
  },
  {
   "attachments": {},
   "cell_type": "markdown",
   "metadata": {},
   "source": [
    "### Input"
   ]
  },
  {
   "cell_type": "code",
   "execution_count": 4,
   "metadata": {},
   "outputs": [],
   "source": [
    "viewed = [\n",
    "    (2017, \"Logan\", \"action\"),\n",
    "    (2015, \"Inside Out\", \"comedy\"),\n",
    "    (2015, \"Mad Max: Fury Road\", \"action\"),\n",
    "    (2014, \"Interstellar\", \"science fiction\"),\n",
    "    (2010, \"How to Train Your Dragon\", \"family, fantasy\"),\n",
    "    (2010, \"Grown Ups\", \"comedy\"),\n",
    "    (2010, \"Inception\",\"science fiction\"),\n",
    "]\n",
    "vector_size = 1024"
   ]
  },
  {
   "cell_type": "code",
   "execution_count": 5,
   "metadata": {},
   "outputs": [],
   "source": [
    "# prepared = session.prepare() # Right now Astra does not support prepared on vector data types.\n",
    "data_by_title = {}\n",
    "for year, title, genre in viewed:\n",
    "    rows = session.execute(f\"SELECT plot_vector_{vector_size} as plot_vector, plot_summary_vector_{vector_size} as plot_summary_vector FROM {TABLE_NAME} WHERE year=%s AND title=%s \", (year, title))\n",
    "    for row in rows:\n",
    "        data_by_title[(year, title)] = (year, title, convert_bytes_to_array_astra(row.plot_vector), convert_bytes_to_array_astra(row.plot_summary_vector))"
   ]
  },
  {
   "attachments": {},
   "cell_type": "markdown",
   "metadata": {},
   "source": [
    "### A. Centroid of all points"
   ]
  },
  {
   "cell_type": "code",
   "execution_count": 6,
   "metadata": {},
   "outputs": [],
   "source": [
    "centroid_plot = np.mean([data_by_title[key][2] for key in data_by_title], axis=0).tolist()\n",
    "centroid_plot_summary = np.mean([data_by_title[key][3] for key in data_by_title], axis=0).tolist()"
   ]
  },
  {
   "attachments": {},
   "cell_type": "markdown",
   "metadata": {},
   "source": [
    "#### Based on full plot"
   ]
  },
  {
   "cell_type": "code",
   "execution_count": 7,
   "metadata": {},
   "outputs": [
    {
     "name": "stdout",
     "output_type": "stream",
     "text": [
      "Jumper 2008 https://en.wikipedia.org/wiki/Jumper_(2008_film)\n",
      "Oblivion 2013 https://en.wikipedia.org/wiki/Oblivion_(2013_film)\n",
      "Superhero Movie 2008 https://en.wikipedia.org/wiki/Superhero_Movie\n",
      "Doom 2005 https://en.wikipedia.org/wiki/Doom_(film)\n",
      "Komodo 1999 https://en.wikipedia.org/wiki/Komodo_(film)\n",
      "Explorers 1985 https://en.wikipedia.org/wiki/Explorers_(film)\n",
      "Pulse 2006 https://en.wikipedia.org/wiki/Pulse_(2006_film)\n",
      "Premonition 2007 https://en.wikipedia.org/wiki/Premonition_(2007_film)\n",
      "Intermedio 2005 https://en.wikipedia.org/wiki/Intermedio_(film)\n",
      "Meet Dave 2008 https://en.wikipedia.org/wiki/Meet_Dave\n",
      "U.F.O. 2012 https://en.wikipedia.org/wiki/U.F.O._(2012_film)\n",
      "Monsters vs. Aliens 2009 https://en.wikipedia.org/wiki/Monsters_vs._Aliens\n",
      "Phenomenon 1996 https://en.wikipedia.org/wiki/Phenomenon_(film)\n",
      "Godsend 2004 https://en.wikipedia.org/wiki/Godsend_(2004_film)\n"
     ]
    }
   ],
   "source": [
    "movies = findMovie(centroid_plot, limit=15)\n",
    "movies = filter_movies(viewed, movies)\n",
    "for movie in movies:\n",
    "    print(movie[1], movie[0], movie[2])"
   ]
  },
  {
   "attachments": {},
   "cell_type": "markdown",
   "metadata": {},
   "source": [
    "#### Based on summarized plot"
   ]
  },
  {
   "cell_type": "code",
   "execution_count": 8,
   "metadata": {},
   "outputs": [
    {
     "name": "stdout",
     "output_type": "stream",
     "text": [
      "Lucid 2005 https://en.wikipedia.org/wiki/Lucid_(film)\n",
      "Destiny 1944 https://en.wikipedia.org/wiki/Destiny_(1944_film)\n",
      "Digger 1993 https://en.wikipedia.org/wiki/Digger_(1993_film)\n",
      "Beyond 2012 https://en.wikipedia.org/wiki/Beyond_(2012_film)\n",
      "Arcadia 2012 https://en.wikipedia.org/wiki/Arcadia_(film)\n",
      "The Outsider 2014 https://en.wikipedia.org/wiki/The_Outsider_(2014_film)\n",
      "Childstar 2004 https://en.wikipedia.org/wiki/Childstar\n",
      "Inside Out 2011 https://en.wikipedia.org/wiki/Inside_Out_(2011_film)\n",
      "Flourish 2006 https://en.wikipedia.org/wiki/Flourish_(film)\n",
      "A.C.O.D. 2013 https://en.wikipedia.org/wiki/A.C.O.D.\n",
      "Trauma 2004 https://en.wikipedia.org/wiki/Trauma_(2004_film)\n",
      "Spiral 2007 https://en.wikipedia.org/wiki/Spiral_(2007_film)\n",
      "Anesthesia 2016 https://en.wikipedia.org/wiki/Anesthesia_(film)\n",
      "Spike 2008 https://en.wikipedia.org/wiki/Spike_(2008_film)\n"
     ]
    }
   ],
   "source": [
    "movies = findMovie(centroid_plot_summary, limit=15)\n",
    "movies = filter_movies(viewed, movies)\n",
    "for movie in movies:\n",
    "    print(movie[1], movie[0], movie[2])"
   ]
  },
  {
   "attachments": {},
   "cell_type": "markdown",
   "metadata": {},
   "source": [
    "### B. Clusterization\n",
    "\n",
    "There are several ways to cluster all the data points.\n",
    "\n",
    "> i. Group by categories. For example, genre of movies, brands of products, espisode of a series or TV show.\n",
    ">\n",
    "> ii. Automatic Clustering with KMeans (K-Means clustering). By setting the `k`-parameter, we can group the data into `k` clusters.\n",
    "\n",
    "#### i. Group by categories"
   ]
  },
  {
   "cell_type": "code",
   "execution_count": 9,
   "metadata": {},
   "outputs": [
    {
     "data": {
      "text/plain": [
       "{'action', 'comedy', 'family, fantasy', 'science fiction'}"
      ]
     },
     "execution_count": 9,
     "metadata": {},
     "output_type": "execute_result"
    }
   ],
   "source": [
    "genres = set([v[2] for v in viewed])\n",
    "genres"
   ]
  },
  {
   "attachments": {},
   "cell_type": "markdown",
   "metadata": {},
   "source": [
    "Group movies by their genre (category) and calculate the mean vector of each genre."
   ]
  },
  {
   "cell_type": "code",
   "execution_count": 10,
   "metadata": {},
   "outputs": [
    {
     "name": "stdout",
     "output_type": "stream",
     "text": [
      "4 1024\n"
     ]
    }
   ],
   "source": [
    "vector_by_genre = []\n",
    "for genre in genres:\n",
    "    movies_by_genre = [(movie[0], movie[1]) for movie in viewed if movie[2]==genre]\n",
    "    vector_by_genre.append(np.mean([data_by_title[key][2] for key in data_by_title if key in movies_by_genre], axis=0).tolist())\n",
    "\n",
    "print(len(vector_by_genre), len(vector_by_genre[0]))"
   ]
  },
  {
   "attachments": {},
   "cell_type": "markdown",
   "metadata": {},
   "source": [
    "For each genre, find few movies that are close to the mean vector."
   ]
  },
  {
   "cell_type": "code",
   "execution_count": 11,
   "metadata": {},
   "outputs": [
    {
     "name": "stdout",
     "output_type": "stream",
     "text": [
      "Oblivion 2013 https://en.wikipedia.org/wiki/Oblivion_(2013_film)\n",
      "Explorers 1985 https://en.wikipedia.org/wiki/Explorers_(film)\n",
      "Grown Ups 2 2013 https://en.wikipedia.org/wiki/Grown_Ups_2\n",
      "Loser 2000 https://en.wikipedia.org/wiki/Loser_(film)\n",
      "Big Bully 1996 https://en.wikipedia.org/wiki/Big_Bully_(film)\n",
      "Mad Max 2: The Road Warrior 1981 https://en.wikipedia.org/wiki/Mad_Max_2:_The_Road_Warrior\n",
      " X-Men 2000 https://en.wikipedia.org/wiki/X-Men_(film)\n",
      "How to Train Your Dragon 2 2014 https://en.wikipedia.org/wiki/How_to_Train_Your_Dragon_2\n",
      "Dragonheart 1996 https://en.wikipedia.org/wiki/Dragonheart\n",
      "Dragon Nest: Warriors' Dawn 2014 https://en.wikipedia.org/wiki/Dragon_Nest:_Warriors%27_Dawn\n"
     ]
    }
   ],
   "source": [
    "for vector_plot in vector_by_genre:\n",
    "    movies = findMovie(vector_plot, limit=4)\n",
    "    movies = filter_movies(viewed, movies)\n",
    "    for movie in movies:\n",
    "        print(movie[1], movie[0], movie[2])"
   ]
  },
  {
   "attachments": {},
   "cell_type": "markdown",
   "metadata": {},
   "source": [
    "#### ii. Automatic Clustering with KMeans\n",
    "\n",
    "Based on the `k-param`, the algorithm will group the observations into k groups and generate the centroids for each group.\n"
   ]
  },
  {
   "cell_type": "code",
   "execution_count": 12,
   "metadata": {},
   "outputs": [],
   "source": [
    "from sklearn.cluster import KMeans"
   ]
  },
  {
   "cell_type": "code",
   "execution_count": 13,
   "metadata": {},
   "outputs": [
    {
     "name": "stdout",
     "output_type": "stream",
     "text": [
      "7 1024\n"
     ]
    }
   ],
   "source": [
    "X = np.array([data_by_title[key][2] for key in data_by_title])\n",
    "print(len(X), len(X[0]))"
   ]
  },
  {
   "cell_type": "code",
   "execution_count": 14,
   "metadata": {},
   "outputs": [],
   "source": [
    "def find_movies_by_auto_cluster(k):\n",
    "    # fit data according to the number of clusters (k)\n",
    "    kmeans = KMeans(n_clusters=k).fit(X)\n",
    "    vector_auto_cluster = kmeans.cluster_centers_\n",
    "\n",
    "    print(\"Total number of clusters =\", len(vector_auto_cluster), \" with dimension of\" ,len(vector_auto_cluster[0]))\n",
    "    for vector_plot in map(tuple,vector_auto_cluster):\n",
    "        movies = findMovie(vector_plot, limit=5)\n",
    "        movies = filter_movies(viewed, movies)\n",
    "        for movie in movies:\n",
    "            print(movie[1], movie[0], movie[2])"
   ]
  },
  {
   "attachments": {},
   "cell_type": "markdown",
   "metadata": {},
   "source": [
    "Cluster to 3 clusters (k=3)"
   ]
  },
  {
   "cell_type": "code",
   "execution_count": 15,
   "metadata": {},
   "outputs": [
    {
     "name": "stdout",
     "output_type": "stream",
     "text": [
      "Total number of clusters = 3  with dimension of 1024\n",
      " X-Men 2000 https://en.wikipedia.org/wiki/X-Men_(film)\n",
      "X-Men Origins: Wolverine 2009 https://en.wikipedia.org/wiki/X-Men_Origins:_Wolverine\n",
      "Loser 2000 https://en.wikipedia.org/wiki/Loser_(film)\n",
      "They 2002 https://en.wikipedia.org/wiki/They_(2002_film)\n",
      "Closet Monster 2015 https://en.wikipedia.org/wiki/Closet_Monster_(film)\n",
      "Den 2001 https://en.wikipedia.org/wiki/Den_(film)\n",
      "Dreamscape 1984 https://en.wikipedia.org/wiki/Dreamscape_(1984_film)\n",
      "How to Train Your Dragon 2 2014 https://en.wikipedia.org/wiki/How_to_Train_Your_Dragon_2\n",
      "Dragonheart 1996 https://en.wikipedia.org/wiki/Dragonheart\n",
      "Dragon Nest: Warriors' Dawn 2014 https://en.wikipedia.org/wiki/Dragon_Nest:_Warriors%27_Dawn\n",
      "He's a Dragon 2015 https://en.wikipedia.org/wiki/He%27s_a_Dragon\n"
     ]
    }
   ],
   "source": [
    "k = 3\n",
    "find_movies_by_auto_cluster(k)"
   ]
  },
  {
   "attachments": {},
   "cell_type": "markdown",
   "metadata": {},
   "source": [
    "Cluster to 4 clusters (k=4)"
   ]
  },
  {
   "cell_type": "code",
   "execution_count": 16,
   "metadata": {},
   "outputs": [
    {
     "name": "stdout",
     "output_type": "stream",
     "text": [
      "Total number of clusters = 4  with dimension of 1024\n",
      "Grown Ups 2 2013 https://en.wikipedia.org/wiki/Grown_Ups_2\n",
      "Big Bully 1996 https://en.wikipedia.org/wiki/Big_Bully_(film)\n",
      "Full Grown Men 2006 https://en.wikipedia.org/wiki/Full_Grown_Men\n",
      "Loser 2000 https://en.wikipedia.org/wiki/Loser_(film)\n",
      "Mindscape 2013 https://en.wikipedia.org/wiki/Mindscape_(film)\n",
      "Oblivion 2013 https://en.wikipedia.org/wiki/Oblivion_(2013_film)\n",
      "Extracted 2012 https://en.wikipedia.org/wiki/Extracted\n",
      "Sphere 1998 https://en.wikipedia.org/wiki/Sphere_(1998_film)\n",
      "Mad Max 2: The Road Warrior 1981 https://en.wikipedia.org/wiki/Mad_Max_2:_The_Road_Warrior\n",
      " X-Men 2000 https://en.wikipedia.org/wiki/X-Men_(film)\n",
      "X-Men Origins: Wolverine 2009 https://en.wikipedia.org/wiki/X-Men_Origins:_Wolverine\n",
      "How to Train Your Dragon 2 2014 https://en.wikipedia.org/wiki/How_to_Train_Your_Dragon_2\n",
      "Dragonheart 1996 https://en.wikipedia.org/wiki/Dragonheart\n",
      "Dragon Nest: Warriors' Dawn 2014 https://en.wikipedia.org/wiki/Dragon_Nest:_Warriors%27_Dawn\n",
      "He's a Dragon 2015 https://en.wikipedia.org/wiki/He%27s_a_Dragon\n"
     ]
    }
   ],
   "source": [
    "k = 4\n",
    "find_movies_by_auto_cluster(k)"
   ]
  },
  {
   "cell_type": "code",
   "execution_count": 17,
   "metadata": {},
   "outputs": [],
   "source": [
    "# Close connection to Cassandra\n",
    "cluster.shutdown()"
   ]
  }
 ],
 "metadata": {
  "kernelspec": {
   "display_name": "Python 3 (ipykernel)",
   "language": "python",
   "name": "python3"
  },
  "language_info": {
   "codemirror_mode": {
    "name": "ipython",
    "version": 3
   },
   "file_extension": ".py",
   "mimetype": "text/x-python",
   "name": "python",
   "nbconvert_exporter": "python",
   "pygments_lexer": "ipython3",
   "version": "3.9.12"
  }
 },
 "nbformat": 4,
 "nbformat_minor": 2
}
