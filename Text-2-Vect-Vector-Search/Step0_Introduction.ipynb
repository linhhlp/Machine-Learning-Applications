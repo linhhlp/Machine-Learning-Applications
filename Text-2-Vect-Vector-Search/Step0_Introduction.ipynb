{
 "cells": [
  {
   "attachments": {},
   "cell_type": "markdown",
   "id": "dfd53c25",
   "metadata": {},
   "source": [
    "# Convert Text to Vector and Vector Search"
   ]
  },
  {
   "attachments": {},
   "cell_type": "markdown",
   "id": "13536e6e",
   "metadata": {},
   "source": [
    "## Overview\n",
    "\n",
    "The Program is divided into several sections:\n",
    "\n",
    "1.  [Convert Movies' Plots to Vectors](Step1_converter-full-movies.ipynb)\n",
    "2.  [Do Vector Search with DataStax on Cassandra](Step2_Vector-Search-DataStax.ipynb)\n",
    "3.  [Prompt Engineering](Step3_Prompt-Engineering.ipynb)"
   ]
  },
  {
   "attachments": {},
   "cell_type": "markdown",
   "id": "0675ea04",
   "metadata": {},
   "source": [
    "## Dataset\n",
    "\n",
    "In this project, we will use a dataset of movies with plots. The original dataset is on https://www.kaggle.com/datasets/gabrieltardochi/wikipedia-movie-plots-with-plot-summaries\n",
    "\n",
    "The plots were scraped from Wikipedia by [jrobischon](https://www.kaggle.com/datasets/jrobischon/wikipedia-movie-plots) and then summarized by [gabrieltardochi](https://www.kaggle.com/datasets/gabrieltardochi/wikipedia-movie-plots-with-plot-summaries) using [DistilBART-CNN-12-6 model](https://huggingface.co/sshleifer/distilbart-cnn-12-6).\n",
    "\n",
    "There are two plots, one is full and the other is shortened. I used CO.HERE AI to vectorize them. The processed dataset was published on [Kaggle](https://www.kaggle.com/datasets/linhhlp/35k-movies-with-embedded-plots-to-vectors): https://www.kaggle.com/datasets/linhhlp/35k-movies-with-embedded-plots-to-vectors\n",
    "\n",
    "The detail of process is on [the next Chapter](Step1_converter-full-movies.ipynb)."
   ]
  },
  {
   "attachments": {},
   "cell_type": "markdown",
   "id": "c024c6ea",
   "metadata": {},
   "source": [
    "## Prompt Engineering\n",
    "\n",
    "To achieve the best results which are the closest to the query, we use a Generate Model with Prompt Engineering to generate the best candidates.\n",
    "\n",
    "![full_diagram.png](images/full_diagram_system_design.png)"
   ]
  },
  {
   "attachments": {},
   "cell_type": "markdown",
   "id": "cedda9b1",
   "metadata": {},
   "source": [
    "## Find-Movies service \n",
    "\n",
    "An demo of the project is deployed at https://find-movies.com/"
   ]
  },
  {
   "attachments": {},
   "cell_type": "markdown",
   "id": "9482f801",
   "metadata": {},
   "source": [
    "## Setup"
   ]
  },
  {
   "attachments": {},
   "cell_type": "markdown",
   "id": "2d62a598",
   "metadata": {},
   "source": [
    "### Clone or download the repo\n",
    "First get local copies of the program:\n",
    "\n",
    "https://github.com/linhhlp/Machine-Learning-Applications\n",
    "\n",
    "### Install the dependencies\n",
    "\n",
    "This program has been developed and tested on:\n",
    "\n",
    "* python 3.9.10\n",
    "* pandas 1.4.1\n",
    "* notebook 6.4.8\n",
    "* cassandra-driver\n",
    "\n",
    "The quickest, easiest way to install is to use Anaconda:\n",
    "\n",
    "#### Installing with anaconda\n",
    "\n",
    "Install [anaconda](http://anaconda.com/downloads)\n",
    "\n",
    "The quickest, easiest way to install dependencies is to use the command line to create an environment and install the packages:\n",
    "\n",
    "```bash\n",
    "$ conda env create\n",
    "$ source activate new_env\n",
    "```\n",
    "\n",
    "Install the remaining dependencies with:\n",
    "\n",
    "```bash\n",
    "conda install tensorflow sklearn seaborn\n",
    "```"
   ]
  },
  {
   "attachments": {},
   "cell_type": "markdown",
   "id": "5d792096",
   "metadata": {},
   "source": [
    "## References:\n",
    "\n",
    "I would like to thank this people and other sources I have learned to complete this comprehensive model.\n",
    "\n",
    "1. DataStax for free of Cassandra and Vector Search (still in public preview).\n",
    "\n",
    "2. CO.HERE AI for free API"
   ]
  }
 ],
 "metadata": {
  "kernelspec": {
   "display_name": "Python 3 (ipykernel)",
   "language": "python",
   "name": "python3"
  },
  "language_info": {
   "codemirror_mode": {
    "name": "ipython",
    "version": 3
   },
   "file_extension": ".py",
   "mimetype": "text/x-python",
   "name": "python",
   "nbconvert_exporter": "python",
   "pygments_lexer": "ipython3",
   "version": "3.9.12"
  }
 },
 "nbformat": 4,
 "nbformat_minor": 5
}
