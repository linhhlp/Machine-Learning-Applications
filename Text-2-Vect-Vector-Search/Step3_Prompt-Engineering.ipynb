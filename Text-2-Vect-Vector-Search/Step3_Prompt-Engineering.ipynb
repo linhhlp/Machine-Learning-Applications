{
 "cells": [
  {
   "attachments": {},
   "cell_type": "markdown",
   "metadata": {},
   "source": [
    "# Prompt Engineering"
   ]
  },
  {
   "attachments": {},
   "cell_type": "markdown",
   "metadata": {},
   "source": [
    "## What is the Prompt Engineering?\n",
    "\n",
    "`Prompt engineering` is a new discipline for developing and optimizing prompts to efficiently use language models.\n",
    "\n",
    "There are several examples introduced at [promptingguide.ai](https://www.promptingguide.ai/introduction/examples).\n",
    "\n",
    "In this section, we will work on recommending a movie based on 5 (or more) different movies which are closely related to the input query (i.e. same neighborhood).\n",
    "\n",
    "In the previous section, we extracted a list of movies which are close to the input query based on ANN search with Vector Search. However, the top movies in the list still might not be the best candidates. Therefore, we will give this list of movies as a prompt and ask AI to select the best candidates based on the movie's plots.\n",
    "\n",
    "## Why or what is the reason?\n",
    "\n",
    "Generative AI is good at generating general information, but it does not have all the information, especially, the knowledge in a specific domain. Therefore, we will input the specialized information (in the format of a list of movies), and ask the Generative AI to select from this data. \n",
    "\n",
    "![full_diagram.png](images/full_diagram_system_design.png)\n",
    "\n",
    "## Steps\n",
    "\n",
    "1. User inputs a question. This query describes the information the user needs.\n",
    "\n",
    "2. The Service converts the query text to a vector. The vectorization function is provided by an embedding AI model.\n",
    "\n",
    "3. By using Vector Search, we can quickly identify the list of relevant results (which are close to the vector of the input question). However, we do not know if the closest results are the most relevant.\n",
    "\n",
    "4. By feeding this data to Generative AI (Generate or Summarize Endpoit/Model), we can identify the most relevant results.\n",
    "\n",
    "5. Finally, the Service returns the best candidate results to the user."
   ]
  },
  {
   "attachments": {},
   "cell_type": "markdown",
   "metadata": {},
   "source": [
    "# Code\n",
    "\n",
    "## 0. Set up"
   ]
  },
  {
   "cell_type": "code",
   "execution_count": 1,
   "metadata": {},
   "outputs": [],
   "source": [
    "import cohere\n",
    "from cassandra import ConsistencyLevel\n",
    "from cassandra.auth import PlainTextAuthProvider\n",
    "from cassandra.cluster import Cluster\n",
    "\n",
    "# get free Trial API Key at https://cohere.ai/\n",
    "from cred import API_key\n",
    "\n",
    "co = cohere.Client(API_key)"
   ]
  },
  {
   "cell_type": "code",
   "execution_count": 2,
   "metadata": {},
   "outputs": [
    {
     "data": {
      "text/plain": [
       "<cassandra.cluster.ResultSet at 0x16c1c7787c0>"
      ]
     },
     "execution_count": 2,
     "metadata": {},
     "output_type": "execute_result"
    }
   ],
   "source": [
    "from cred import (ASTRA_CLIENT_ID, ASTRA_CLIENT_SECRET,\n",
    "                  SECURE_CONNECT_BUNDLE_PATH)\n",
    "\n",
    "KEYSPACE_NAME = \"demo\"\n",
    "# 35K Movies DB\n",
    "TABLE_NAME = \"movies_35K_vectorized\"\n",
    "\n",
    "cloud_config = {\"secure_connect_bundle\": SECURE_CONNECT_BUNDLE_PATH}\n",
    "auth_provider = PlainTextAuthProvider(ASTRA_CLIENT_ID, ASTRA_CLIENT_SECRET)\n",
    "cluster = Cluster(cloud=cloud_config, auth_provider=auth_provider, protocol_version=4)\n",
    "session = cluster.connect()\n",
    "session.execute(f\"USE {KEYSPACE_NAME};\")"
   ]
  },
  {
   "attachments": {},
   "cell_type": "markdown",
   "metadata": {},
   "source": [
    "## 1. Create a Query"
   ]
  },
  {
   "cell_type": "code",
   "execution_count": 3,
   "metadata": {},
   "outputs": [],
   "source": [
    "query = \"fictional beautiful animals with no human intervention\""
   ]
  },
  {
   "attachments": {},
   "cell_type": "markdown",
   "metadata": {},
   "source": [
    "## 2. Vectorize the Text "
   ]
  },
  {
   "cell_type": "code",
   "execution_count": 4,
   "metadata": {},
   "outputs": [
    {
     "data": {
      "text/plain": [
       "1024"
      ]
     },
     "execution_count": 4,
     "metadata": {},
     "output_type": "execute_result"
    }
   ],
   "source": [
    "response = co.embed(model=\"embed-english-light-v2.0\", texts=[query])\n",
    "vec = response.embeddings[0]\n",
    "len(vec)"
   ]
  },
  {
   "attachments": {},
   "cell_type": "markdown",
   "metadata": {},
   "source": [
    "## 3. Vector Search"
   ]
  },
  {
   "cell_type": "code",
   "execution_count": 5,
   "metadata": {},
   "outputs": [
    {
     "name": "stdout",
     "output_type": "stream",
     "text": [
      "Madagascar 3: Europe's Most Wanted 2012\n",
      "Adam and Evil 1927\n",
      "Fierce Creatures 1997\n",
      "African Cats 2011\n",
      "Doraemon: Nobita to Kiseki no Shima ~Animal Adventure~ 2012\n"
     ]
    }
   ],
   "source": [
    "method = \"plot_vector_1024\"\n",
    "limit = 5\n",
    "data = []\n",
    "for row in session.execute(\n",
    "    f\"SELECT year, title, wiki_link, plot, plot_summary FROM {KEYSPACE_NAME}.{TABLE_NAME} \"\n",
    "    f\" ORDER BY {method} ANN OF %s LIMIT {limit}\",\n",
    "    [vec]\n",
    "):\n",
    "    data.append(row)\n",
    "\n",
    "for row in data:\n",
    "    print(row.title, row.year)"
   ]
  },
  {
   "attachments": {},
   "cell_type": "markdown",
   "metadata": {},
   "source": [
    "## 4. Prompt Engineering"
   ]
  },
  {
   "cell_type": "code",
   "execution_count": 7,
   "metadata": {},
   "outputs": [],
   "source": [
    "# The Generative Model might limit the length of the input data.\n",
    "# Hence, we shorten the input data if exceeding the limit.\n",
    "def shorten(s, n=10000):\n",
    "    return ' '.join(s.split()[:n])"
   ]
  },
  {
   "attachments": {},
   "cell_type": "markdown",
   "metadata": {},
   "source": [
    "### Prepare the Prompt"
   ]
  },
  {
   "cell_type": "code",
   "execution_count": 9,
   "metadata": {},
   "outputs": [
    {
     "name": "stdout",
     "output_type": "stream",
     "text": [
      "2578\n",
      "Based on the plots of 5 movies below, suggest a movie which \"fictional beautiful animals with no human intervention\": \n",
      "Movie 1: title: Madagascar 3: Europe's Most Wanted (2012). The plot is: \n",
      "Many days after bidding the penguins goodbye, Alex the lion suggests to his friends, Marty the zebra, Melman the giraffe and Gloria the hippopotamus and the lemurs, King Julien XIII the ring-tailed lemur, Maurice the aye-aye and Mort the mouse lemur that they should go to Monte Carlo to get the penguins and chimpanzees, Mason and Phil and fly back to New York City, which they agree to do. In Monte Carlo, the penguins and chimpanzees have been saving up their daily winnings from the casino to fly back to Africa and bring their friends home. Alex's interference to kidnap them leads to animal control, led by a vicious big-game hunter named Chantel DuBois, pursuing them around the city, with Alex and the gang barely escaping. With determination, DuBois vows to capture Alex and add his head to her collection of animals' heads she's captured. In the skies of France, the plane crashes as the authorities close in. They come across a circus train consisting of Stefano the sea lion, Gia the jaguar, and Vitaly the tiger, and manage to gain entry, claiming that they are circus animals themselves. The team soon learn from Stefano that they are performing in Rome and London, where they plan to impress a promoter to get them on their first American tour. Before the zoo animals' claim is discredited, the penguins suddenly appear with a deal to purchase the circus themselves; however, the circus animals' show in Rome proves to be a failure. In route to London, Stefano soon reveals to Alex that Vitaly was the biggest star of them all, but quit due to an accident in one of his stunts; therefore, the friends lost faith in the circus. At a stop in the Alps, Alex convinces the circus to continue pursuing the circus. Gia persuades Alex to teach her Trapeze Americano. In the process, they grow closer. Meanwhile, DuBois is arrested in Rome while chasing the animals, but escapes and discovers that Alex was the missing lion from the zoo in New York. Once free, DuBois recruits her injured men and they head toward the Alps, forcing the animals to proceed to London despite incomplete rehearsals. Alex finds Vitaly preparing to leave and convinces him to stay by reminding him of how he enjoys performing the impossible. He suggests that he uses hair conditioner as a safer lubricant to perform his flaming ring jump as well as fix his damaged fur. As a result, Vitaly's stunt is performed perfectly and the show is a spectacular success. After the impressed promoter arranges for an American tour, DuBois shows up with a paper showing that Alex was missing. Though the penguins are able to foil Dubois' plan, Alex is forced to confess that the four of them are just zoo animals trying to get home, disappointing the others who feel used and lied to. The zoo animals and circus go their separate ways but arrive in New York City at the same time. Realizing how much their adventures have changed them, the zoo animals find that their true home was with the circus. Before they can go back, however, DuBois tranquilizes and captures them, before being discovered by the zoo staff, who believe she is responsible for returning the missing animals. King Julien and the penguins manage to get to the circus and convince the circus animals to rescue their friends. Back at the zoo, Alex awakens to find that he along with his friends are trapped in larger fence enclosures. DuBois, who was honored by the zoo guards, secretly loads a poison-filled dart into a gun that she hides inside a foam finger in preparation for publicly executing Alex. The circus animals arrive led by Skipper and are able to defeat DuBois and her henchmen. Alex and his friends eventually decide to permanently join the circus to pursue their adventures, while DuBois and her henchmen are sent off in crates bound for Madagascar thanks to the penguins.\n",
      "Movie 2: title: Adam and Evil (1927). The plot is: \n",
      "\"The little fur-bearing animals that are sacrificed for the vanity of women desiring fur coats have a posthumous revenge.\" [4]\n",
      "Movie 3: title: Fierce Creatures (1997). The plot is: \n",
      "Willa Weston arrives in Atlanta to take a high ranking position in a company recently acquired by Octopus Inc.'s owner, Rod McCain. But Rod informs her that he has already sold the company where she was to work. Willa then agrees to run another recent acquisition, Marwood Zoo, in an attempt to create a business model that can be used for multiple zoos in the future. Rod McCain's son Vincent, who feels an unreciprocated attraction to Willa, announces that he will join her at the zoo. The newly appointed director of the zoo is a retired Hong Kong Police Force officer and former Octopus Television employee, Rollo Lee. In order to meet Octopus's revenue target of 20% from all assets, Rollo institutes a \"fierce creatures\" theme on the assumption that dangerous and violent animals will attract more visitors. All animals not meeting those requirements must go. All the animal keepers, including spider-handler Bugsy, make various attempts to get Rollo to change his mind. One such attempt involves getting Rollo to kill some of the cutest animals himself, but Rollo, seeing through their prank, fakes the animals' extermination. Rollo keeps the animals in his bedroom which later causes Willa and Vincent to misunderstand that Rollo is having an orgy with the female staff. Rollo discovers that several staff members are faking animal attack injuries. Rollo fires several warning shots at those responsible and Reggie rushes in, thinking mistakenly that one of them is shot. Rollo then finds a visitor who has had a genuine accident but, not believing it is real, tastes the blood of the visitor whilst loudly proclaiming that it is fake. Just then Willa and Vincent arrive and this fiasco sees Rollo demoted to middle management. Vince even threatens to fire him if his apparent activities with the female staff do not cease. Vince covers both the zoo and animals alike with advertisements after secretly garnering sponsors, dresses the staff in ridiculous outfits, and installs an artificial panda in one of the enclosures. His continued attempts to seduce Willa fail, while she comes to enjoy working at the zoo after having a close encounter with a silverback gorilla. She finds herself attracted to Rollo after becoming fascinated by his apparent ability to attract multiple women. When Rollo attempts to have a discussion about Vince's marketing plan, she suggests they have dinner, but she is forced to postpone when she remembers Rod is coming from Atlanta to discuss the running of the zoo. Worried that the visit might be part of a plan to close the zoo, Rollo and the zookeepers bug Rod's hotel room to find out. Although the plan goes awry, they learn that Rod wants to turn the zoo into a golf course and is not actually expecting to die soon. Upon discovering that Vince has stolen sponsorship money he raised, Willa warns him to return it, or else she will tell Rod. When Rollo attempts to work out how the theft can be traced, he and Willa finally kiss, just as Vince arrives to return the money. A confrontation takes place first at the zoo office, and then outside as Willa, Rollo, Bugsy, and several others attempt to stop Vince from running off with the money. Bugsy refuses to shut up, so Vince loses his temper and grabs a pistol from the management office. Rod arrives just as Vince is being subdued and announces the police are on their way to arrest Vince for stealing. Vince tries and fails to shoot his father, but then Bugsy takes the pistol and accidentally shoots Rod between the eyes. In the panic that follows, a plan emerges to fool Neville and the arriving police. The keepers work together to dress Vince up as Rod, since he can imitate his father's accent fairly well. When the police and Neville arrive, Vince (as Rod) tells them that he has rewritten Rod's will, specifying that the zoo will become a trust of the caretakers while Vince will inherit everything else, and he wants all of them to be witnesses. After signing the new will, Vince locks himself in a caretaker hut where he feigns Rod's suicide. Although Neville becomes suspicious, he is left dumbstruck when he discovers the dead body of his boss in the hut. Now free, the zookeepers destroy the evidence of McCain's ownership. Vince becomes the new CEO of Octopus, while Willa and Rollo happily begin a new life together while continuing to run the zoo.\n",
      "Movie 4: title: African Cats (2011). The plot is: \n",
      "African Cats, referred to as a \"true life adventure,\"[11] tells the true story of two animal families living in the wild by using real-life footage.[12] The film focuses on a young lion cub named Mara raised by her mother Layla, a mother cheetah named Sita who is raising five newborns, and Fang, the leader of Mara and Layla's pride, defending his family from a banished lion named 'Kali'.[13][14] With so many species competing for space and food in the savanna, the animals must figure out what′s the best way to survive. The film begins by introducing Sita, a cheetah who lives in the vast plains of the Maasai Mara National Reserve, in Kenya, and has just given birth to five cubs to take care of. Then we see Mara, a six-month-old lion cub, with her mother Layla, who both belong to the River pride, which lives in the south of the park. The pride′s leader is named Fang, an old male lion, who has a distinctive broken tooth because of an earlier fight. In the north of the Maasai Mara, Sita and her cubs coexist with another lion pride led by a large male named Kali, who wishes to expand his pride and territory by taking over Fang′s southern pride and territory, which however he cannot reach as the Pride Lands are divided by the crocodile infested river. Sita's cubs are playing while Kali and one of his four sons are on patrol. Sita, seeing them as a serious danger to her cubs, goads them so as to lure them away. However, after the confrontation, the cubs have scattered. Sita desperately calls for them. As it gets darker, hyenas are seen and heard. In the morning, three of the five cubs return to Sita. Although she continues to call for the rest of them, it′s clear that they have been killed by hyenas. Layla was injured by a zebra's kick while hunting. As the wildebeest begin to migrate to greener pastures, so does the River pride. However, due to her injury and old age, Layla has trouble keeping up. Mara stays alongside her mother and tries to help on her way. Soon, they begin to lose track of the pride. Knowing that Mara needs her family for her survival, Layla forces through her injury, and they soon find themselves within the River pride once more. As time passes, Sita's cubs have thrived, and begin to show more of their cheetah nature. One day, a gang of three adult cheetah brothers roaming about zone in on Sita. Again, Sita finds herself having to divert attention from rivals so that they do not find her cubs. However, being fellow cheetahs, they do not tire as easily as lions do; and soon, the brothers separate Sita from her cubs. As they circle them, the cubs stand their ground and hiss at the bullies, meaning they have inherited their mother's prowess and bravery. Before the cheetah brothers can do anything, a passing elephant chases them away – meaning that in the savanna, even bullies get bullied. Some time later, the river has lessened. Kali and his largest son take advantage of it so they can cross and begin their assault on the River pride. They head towards the southern territory. Fang, upon seeing them approaching, runs for his life, but Layla does not back away – knowing that Mara could be killed should the assault succeed, she fearlessly attacks the rivals. Soon, the other lionesses, inspired by Layla's courage, join in the fight. Kali and his son are defeated, and return to the northern territory empty-handed. Victory completed, Fang returns, and life returns to usual for the pride as well. Meanwhile, hyenas approach Sita and her cubs, but the brave mother cheetah, having already lost two cubs to them, does not back away; sure enough, she attacks them fearlessly, not letting them anywhere near her cubs. Finally, the hyenas give up the fight and leave – Sita's bravery has kept the remaining cubs alive and free from danger. Layla was injured ever further during the fight. Seeing that she might not make it, on a rainy day – which the lions take advantage of to bond with each other –, for Mara′s sake, she goes to her sister Malayka – who has cubs of her own – and reconnects with her so as to maintain a spot in the pride for Mara. Once she sees that Mara is accepted by Malayka, Layla slips away from the pride to find a nice quiet place to die. As time goes by, Kali reunites with his four sons. Although they have shown signs of betrayal with ideas of dethroning him, Kali is still strong, and shows them that he's the boss and that only he will wear the crown. Together, they are the most powerful force in the land. They return for another assault. Upon seeing them, Fang runs, never to be seen or heard from again – if he is to ever return again, he would be shown no mercy. Kali takes over the pride and exiles Fang's cubs, including Mara – now a young adult. Her male cousins are seen as the number one threat to Kali and his sons, so they hunt them down. Seeing that they can no longer stay within their pride, Fang's male cubs have no choice but to cross the river, even though its level has grown and it is infested with crocodiles. As they get near the northern bank, one of them is nearly caught in the jaws of a crocodile; nonetheless, they reach land unscathed. The lionesses refuse to admit Kali as their leader, the wound of losing their cubs still far too fresh in their minds. Mara, banished from her pride, tries to live on her own and fend for herself. However, she was banished before she was taught to hunt, and finds her first attempts at catching meals on her own, even small warthogs and especially\n",
      "Movie 5: title: Doraemon: Nobita to Kiseki no Shima ~Animal Adventure~ (2012). The plot is: \n",
      "Nobita and his dad buy a big rhinoceros beetle, which he promises to his dad to take good care of it. Later, Doraemon's group finds a strange island where a tribe co-exists with prehistoric creatures long believed to extinct yet preserved by a mythical beetle spirit named Golden Hercules. However, the group has to deal with a group of criminals from the future who intend to capture Golden Hercules for a profit.\n",
      "\n"
     ]
    }
   ],
   "source": [
    "prompt = f\"Based on the plots of {limit} movie\" + (\"s\" if limit > 1 else \"\") + f\" below, suggest a movie which \\\"{query}\\\": \\n\"\n",
    "for i, row in enumerate(data, 1):\n",
    "    prompt += f\"Movie {i}: title: {row.title} ({row.year}). The plot is: \\n\"\n",
    "    #prompt += row.plot_summary  + \"\\n\"\n",
    "    prompt += shorten(row.plot, 1000) + \"\\n\"\n",
    "\n",
    "print(len(prompt.split()))\n",
    "print(prompt)"
   ]
  },
  {
   "attachments": {},
   "cell_type": "markdown",
   "metadata": {},
   "source": [
    "### Feed the Generate Model\n",
    "\n",
    "The Generate Endpoints provide two Models, `command` for full functionality, and `command-nightly` for quick response."
   ]
  },
  {
   "cell_type": "code",
   "execution_count": 16,
   "metadata": {},
   "outputs": [
    {
     "name": "stdout",
     "output_type": "stream",
     "text": [
      "Based on the plots of 5 movies above, suggest a movie which \"fictional beautiful animals with no human intervention\": \n",
      "Movie 1: title: Madagascar 3: Europe's Most Wanted (2012). The plot is: \n",
      "Many days after bidding the penguins goodbye, Alex the lion suggests to his friends, Marty the zebra, Melman the giraffe and Gloria the hippopotamus and the lemurs, King Julien XIII the ring-tailed lemur, Maurice the aye-aye and Mort the mouse lemur that they should go to Monte Carlo to get the penguins and chimpanzees, Mason and Phil and fly back\n"
     ]
    }
   ],
   "source": [
    "response = co.generate(  \n",
    "    #model='command', #\n",
    "    model= 'command-nightly',   \n",
    "    prompt = prompt,  \n",
    "    max_tokens=126,  \n",
    "    temperature=0.50)\n",
    "\n",
    "intro_paragraph = response.generations[0].text\n",
    "print(intro_paragraph)"
   ]
  },
  {
   "attachments": {},
   "cell_type": "markdown",
   "metadata": {},
   "source": [
    "## 5. Complete the Code"
   ]
  },
  {
   "cell_type": "code",
   "execution_count": 14,
   "metadata": {},
   "outputs": [],
   "source": [
    "def findMovie(text, method=\"plot_vector_1024\", limit=2):\n",
    "    response = co.embed(model=\"embed-english-light-v2.0\", texts=[text])\n",
    "    vec = response.embeddings[0]\n",
    "    data = []\n",
    "    for row in session.execute(\n",
    "        f\"SELECT year, title, wiki_link, plot, plot_summary FROM {KEYSPACE_NAME}.{TABLE_NAME} \"\n",
    "        f\" ORDER BY {method} ANN OF %s LIMIT {limit}\",\n",
    "        [vec]\n",
    "):\n",
    "        data.append(row)\n",
    "\n",
    "    prompt = (f\"Based on the plots of {limit} movie\" + (\"s\" if limit > 1 else \"\") \n",
    "              + f\" below, suggest a movie which \\\"{query}\\\": \\n\")\n",
    "    for i, row in enumerate(data, 1):\n",
    "        prompt += f\"Movie {i}: title: {row.title} ({row.year}). The plot is: \\n\"\n",
    "        #prompt += row.plot_summary  + \"\\n\"\n",
    "        prompt += shorten(row.plot, 1000) + \"\\n\"\n",
    "\n",
    "    response = co.generate(  \n",
    "        #model='command', #\n",
    "        model= 'command-nightly',   \n",
    "        prompt = prompt,  \n",
    "        max_tokens=126,  \n",
    "        temperature=0.50)\n",
    "\n",
    "    res = response.generations[0].text\n",
    "\n",
    "    return res"
   ]
  },
  {
   "cell_type": "code",
   "execution_count": 15,
   "metadata": {},
   "outputs": [
    {
     "name": "stdout",
     "output_type": "stream",
     "text": [
      "Based on the plots of 5 movies above, suggest a movie which \"fictional beautiful animals with no human intervention\": \n",
      "Madagascar 3: Europe's Most Wanted\n"
     ]
    }
   ],
   "source": [
    "limit = 5\n",
    "res = findMovie(query, method=\"plot_vector_1024\", limit=limit)\n",
    "print(res)"
   ]
  },
  {
   "cell_type": "code",
   "execution_count": null,
   "metadata": {},
   "outputs": [],
   "source": [
    "# Close connection to Cassandra\n",
    "cluster.shutdown()"
   ]
  }
 ],
 "metadata": {
  "kernelspec": {
   "display_name": "Python 3 (ipykernel)",
   "language": "python",
   "name": "python3"
  },
  "language_info": {
   "codemirror_mode": {
    "name": "ipython",
    "version": 3
   },
   "file_extension": ".py",
   "mimetype": "text/x-python",
   "name": "python",
   "nbconvert_exporter": "python",
   "pygments_lexer": "ipython3",
   "version": "3.9.12"
  }
 },
 "nbformat": 4,
 "nbformat_minor": 2
}
