{
 "cells": [
  {
   "cell_type": "markdown",
   "id": "f4ec9dd3",
   "metadata": {},
   "source": [
    "# Generating Data\n",
    "Firstly, we need to generate the data by using an (exponential) equation with noise. The data mimics the actual data acquired by experiment."
   ]
  },
  {
   "cell_type": "code",
   "execution_count": 1,
   "id": "d86663c5",
   "metadata": {},
   "outputs": [],
   "source": [
    "import pandas as pd\n",
    "import matplotlib.pyplot as plt\n",
    "import seaborn as sns\n",
    "import numpy as np"
   ]
  },
  {
   "cell_type": "markdown",
   "id": "62de3c75",
   "metadata": {},
   "source": [
    "## Functions"
   ]
  },
  {
   "cell_type": "code",
   "execution_count": 2,
   "id": "3a47dc2d",
   "metadata": {},
   "outputs": [],
   "source": [
    "def generate_data(sigma_not, pc, t, noise, n=1000, pmax=25):\n",
    "    \"\"\"Generate the data by using an exponential equation with noise.\n",
    "\n",
    "    Percolation Threshold of Electrical Conductivity\n",
    "    equation exponential percolation theory:\n",
    "\n",
    "        sigma = sigma_not * ( p - pc  ) ^ t\n",
    "\n",
    "    sigma_not, pc, t were fitting coefficients:\n",
    "    t should be from 1.5 to 2.5; in 3D-system expected value = 2\n",
    "    pc in percentage (0 to 100%), expected value ~ 0.5 % (or 0.005 real number)\n",
    "\n",
    "    Parameters\n",
    "    ----------\n",
    "    sigma_not : float\n",
    "        Fitting coefficients\n",
    "    pc : float\n",
    "        Fitting coefficients\n",
    "    t : float\n",
    "        Fitting coefficients\n",
    "    noise : float\n",
    "        Maximum in percentage flucation from real value\n",
    "    n : int, optional\n",
    "        Number of samples (number of data generated), by default 1000\n",
    "    pmax : int, optional\n",
    "        Maximum in percent, by default 25\n",
    "\n",
    "    Returns\n",
    "    -------\n",
    "    p : ndarray\n",
    "        Weight fraction\n",
    "    sigma : ndarray\n",
    "        The original electrical conductivity of the nanocomposite\n",
    "    sigma_not : ndarray\n",
    "        The electrical conductivity of the nanocomposite with noise\n",
    "    \"\"\"\n",
    "    p = np.random.uniform(float(pc), float(pmax), n)\n",
    "    p[0] = 1.0001*p[0]  # force (p -pc) to not be 0 when 1st value pi = pc\n",
    "    sigma = sigma_not * np.float_power((p-pc)/100.0, t)\n",
    "    # add noise\n",
    "    sigma_noise = sigma * (1+(2*np.random.random(n)-1)*(noise/100.))\n",
    "\n",
    "    return (p, sigma, sigma_noise)"
   ]
  },
  {
   "cell_type": "markdown",
   "id": "09bcda2e",
   "metadata": {},
   "source": [
    "## Generating a sample"
   ]
  },
  {
   "cell_type": "code",
   "execution_count": 3,
   "id": "24331316",
   "metadata": {},
   "outputs": [
    {
     "data": {
      "text/html": [
       "<div>\n",
       "<style scoped>\n",
       "    .dataframe tbody tr th:only-of-type {\n",
       "        vertical-align: middle;\n",
       "    }\n",
       "\n",
       "    .dataframe tbody tr th {\n",
       "        vertical-align: top;\n",
       "    }\n",
       "\n",
       "    .dataframe thead th {\n",
       "        text-align: right;\n",
       "    }\n",
       "</style>\n",
       "<table border=\"1\" class=\"dataframe\">\n",
       "  <thead>\n",
       "    <tr style=\"text-align: right;\">\n",
       "      <th></th>\n",
       "      <th>p</th>\n",
       "      <th>sigma</th>\n",
       "      <th>sigma_noise</th>\n",
       "    </tr>\n",
       "  </thead>\n",
       "  <tbody>\n",
       "    <tr>\n",
       "      <th>0</th>\n",
       "      <td>23.553975</td>\n",
       "      <td>53.148576</td>\n",
       "      <td>39.712581</td>\n",
       "    </tr>\n",
       "    <tr>\n",
       "      <th>1</th>\n",
       "      <td>14.757412</td>\n",
       "      <td>20.327378</td>\n",
       "      <td>26.801402</td>\n",
       "    </tr>\n",
       "    <tr>\n",
       "      <th>2</th>\n",
       "      <td>14.089937</td>\n",
       "      <td>18.468637</td>\n",
       "      <td>21.078314</td>\n",
       "    </tr>\n",
       "    <tr>\n",
       "      <th>3</th>\n",
       "      <td>14.376185</td>\n",
       "      <td>19.254850</td>\n",
       "      <td>14.531999</td>\n",
       "    </tr>\n",
       "    <tr>\n",
       "      <th>4</th>\n",
       "      <td>1.371059</td>\n",
       "      <td>0.075874</td>\n",
       "      <td>0.090440</td>\n",
       "    </tr>\n",
       "    <tr>\n",
       "      <th>...</th>\n",
       "      <td>...</td>\n",
       "      <td>...</td>\n",
       "      <td>...</td>\n",
       "    </tr>\n",
       "    <tr>\n",
       "      <th>995</th>\n",
       "      <td>21.972899</td>\n",
       "      <td>46.108538</td>\n",
       "      <td>45.046340</td>\n",
       "    </tr>\n",
       "    <tr>\n",
       "      <th>996</th>\n",
       "      <td>17.484900</td>\n",
       "      <td>28.848682</td>\n",
       "      <td>38.862741</td>\n",
       "    </tr>\n",
       "    <tr>\n",
       "      <th>997</th>\n",
       "      <td>20.130392</td>\n",
       "      <td>38.535228</td>\n",
       "      <td>56.868562</td>\n",
       "    </tr>\n",
       "    <tr>\n",
       "      <th>998</th>\n",
       "      <td>13.708065</td>\n",
       "      <td>17.445298</td>\n",
       "      <td>12.322113</td>\n",
       "    </tr>\n",
       "    <tr>\n",
       "      <th>999</th>\n",
       "      <td>6.510601</td>\n",
       "      <td>3.612732</td>\n",
       "      <td>4.515409</td>\n",
       "    </tr>\n",
       "  </tbody>\n",
       "</table>\n",
       "<p>1000 rows × 3 columns</p>\n",
       "</div>"
      ],
      "text/plain": [
       "             p      sigma  sigma_noise\n",
       "0    23.553975  53.148576    39.712581\n",
       "1    14.757412  20.327378    26.801402\n",
       "2    14.089937  18.468637    21.078314\n",
       "3    14.376185  19.254850    14.531999\n",
       "4     1.371059   0.075874     0.090440\n",
       "..         ...        ...          ...\n",
       "995  21.972899  46.108538    45.046340\n",
       "996  17.484900  28.848682    38.862741\n",
       "997  20.130392  38.535228    56.868562\n",
       "998  13.708065  17.445298    12.322113\n",
       "999   6.510601   3.612732     4.515409\n",
       "\n",
       "[1000 rows x 3 columns]"
      ]
     },
     "execution_count": 3,
     "metadata": {},
     "output_type": "execute_result"
    }
   ],
   "source": [
    "sigma_not = 1000  # S/m\n",
    "pc = 0.5  # %\n",
    "t = 2\n",
    "noise = 50  # %\n",
    "p, sigma, sigma_noise = generate_data(sigma_not, pc, t, noise)\n",
    "# print(p)\n",
    "# print(sigma)\n",
    "data = pd.DataFrame({\"p\": p, \"sigma\": sigma, \"sigma_noise\": sigma_noise})\n",
    "data"
   ]
  },
  {
   "cell_type": "markdown",
   "id": "fa107e11",
   "metadata": {},
   "source": [
    "## Plotting noised data vs original data"
   ]
  },
  {
   "cell_type": "code",
   "execution_count": 4,
   "id": "508987ff",
   "metadata": {},
   "outputs": [
    {
     "data": {
      "image/png": "[encoded data removed]",
      "text/plain": [
       "<Figure size 432x288 with 1 Axes>"
      ]
     },
     "metadata": {
      "needs_background": "light"
     },
     "output_type": "display_data"
    }
   ],
   "source": [
    "plt.plot(p, sigma_noise, marker=\"+\", linestyle=\"None\")\n",
    "plt.plot(p, sigma, marker=\"+\", linestyle=\"None\")\n",
    "plt.yscale(\"log\")\n",
    "plt.ylim(0.001, 100)\n",
    "plt.legend([\"Noised sigma\", \"Original sigma\"])\n",
    "plt.show()"
   ]
  },
  {
   "cell_type": "markdown",
   "id": "2f62af52",
   "metadata": {},
   "source": [
    "# Generating data and Saving to files\n",
    "\n",
    "## Polymers:\n",
    "Including\n",
    "* HDPE: High Density Poly Ethylene - a very popular polymer\n",
    "* HDPE treated: to make filler mix well, and expect to increase conductivity\n",
    "\n",
    "## Fillers:\n",
    "Including\n",
    "* MWCNT: Multiwall Carbon Nanotube\n",
    "* SWCNT: Single Carbon Nanotube\n",
    "* GNP: Graphene Nanoplate\n",
    "\n",
    "## Future note:\n",
    "* Next version of program should predict complex cases where there are multiple polymers reinforced with different fillers\n",
    "\n",
    "## Columns in data table\n",
    "* polymer_1 = \"HDPE\" : First polymer\n",
    "* filler_1  = \"MWCNT\": First filler\n",
    "* wt_l2     = float  : Weight fraction of 1st filler\n",
    "* polymer_2 = \"\"     : Second polymer in the composite\n",
    "* ratio_1_2 = float  : If there is second polymer, what ratio between 2 polymers?\n",
    "* filler_2  = \"\"     : Second filler\n",
    "* wt_l2     = float  : Weight fraction of 2nd filler\n",
    "* foaming   = 1 or 0 : foaming or no foam (unfoamed or solid sample)\n",
    "* conductivity=float : Value of electrical conductivity\n",
    "* owner     = \"owner\": the sources or owner of data set"
   ]
  },
  {
   "cell_type": "markdown",
   "id": "e88c2f15",
   "metadata": {},
   "source": [
    "## Data set 1: HDPE & MWCNT"
   ]
  },
  {
   "cell_type": "code",
   "execution_count": 5,
   "id": "8cc9483e",
   "metadata": {},
   "outputs": [
    {
     "data": {
      "image/png": "[encoded data removed]",
      "text/plain": [
       "<Figure size 432x288 with 1 Axes>"
      ]
     },
     "metadata": {
      "needs_background": "light"
     },
     "output_type": "display_data"
    }
   ],
   "source": [
    "polymer_1 = \"HDPE\"\n",
    "filler_1 = \"MWCNT\"\n",
    "polymer_2 = \"\"\n",
    "ratio_1_2 = \"\"\n",
    "filler_2 = \"\"\n",
    "wt_l2 = \"\"\n",
    "foaming = 0  # no foam\n",
    "owner = \"data set 1\"\n",
    "file_name = \"data/\"\n",
    "sigma_not = 1000  # S/m\n",
    "pc = 0.5  # %\n",
    "t = 2\n",
    "noise = 50  # %\n",
    "# Generate data\n",
    "p, sigma, sigma_noise = generate_data(sigma_not, pc, t, noise)\n",
    "# Save to file\n",
    "if polymer_2:\n",
    "    file_name += polymer_1 + \"-\" + polymer_2\n",
    "else:\n",
    "    file_name += polymer_1\n",
    "file_name += \"_\"\n",
    "if filler_2:\n",
    "    file_name += filler_1 + \"-\" + filler_2\n",
    "else:\n",
    "    file_name += filler_1\n",
    "file_name += \"_\" + owner.replace(\" \", \"-\") + \".csv\"\n",
    "# print(filename)\n",
    "# Save to CSV files\n",
    "if not wt_l2:\n",
    "    wt_l2 = p.size * [\"\"]\n",
    "data_full = pd.DataFrame(\n",
    "    {\n",
    "        \"polymer_1\": p.size * [polymer_1],\n",
    "        \"polymer_p2\": p.size * [polymer_2],\n",
    "        \"ratio_1_2\": p.size * [ratio_1_2],\n",
    "        \"filler_1\": p.size * [filler_1],\n",
    "        \"wt_l1\": p,\n",
    "        \"filler_2\": p.size * [filler_2],\n",
    "        \"wt_l2\": wt_l2,\n",
    "        \"foaming\": p.size * [foaming],\n",
    "        \"conductivity\": sigma_noise,\n",
    "        \"owner\": owner,\n",
    "    }\n",
    ")\n",
    "data_full.to_csv(file_name, index=None)\n",
    "\n",
    "# np.savetxt(filename, (p,sigma_noise) , delimiter=\",\")\n",
    "\n",
    "plt.plot(p, sigma_noise, marker=\"+\", linestyle=\"None\")\n",
    "plt.plot(p, sigma, marker=\"+\", linestyle=\"None\")\n",
    "plt.yscale(\"log\")\n",
    "plt.ylim(0.001, 100)\n",
    "plt.legend([\"Noised sigma\", \"Original sigma\"])\n",
    "plt.show()"
   ]
  },
  {
   "cell_type": "markdown",
   "id": "79883b1e",
   "metadata": {},
   "source": [
    "## Data set 2: HDPE_treated & MWCNT\n",
    "Treated HDPE => better mix up => more uniform distribution of filler in polymer => higher conductivity"
   ]
  },
  {
   "cell_type": "code",
   "execution_count": 6,
   "id": "5c3b96ab",
   "metadata": {},
   "outputs": [
    {
     "data": {
      "image/png": "[encoded data removed]",
      "text/plain": [
       "<Figure size 432x288 with 1 Axes>"
      ]
     },
     "metadata": {
      "needs_background": "light"
     },
     "output_type": "display_data"
    }
   ],
   "source": [
    "polymer_1 = \"HDPEtreated\"\n",
    "filler_1 = \"MWCNT\"\n",
    "polymer_2 = \"\"\n",
    "ratio_1_2 = \"\"\n",
    "filler_2 = \"\"\n",
    "wt_l2 = \"\"\n",
    "foaming = 0  # no foam\n",
    "owner = \"data set 2\"\n",
    "file_name = \"data/\"\n",
    "\n",
    "sigma_not = 5000  # S/m\n",
    "pc = 0.3  # %\n",
    "t = 2\n",
    "noise = 20  # %\n",
    "# Generate data\n",
    "p, sigma, sigma_noise = generate_data(sigma_not, pc, t, noise)\n",
    "# Save to file\n",
    "if polymer_2:\n",
    "    file_name += polymer_1 + \"-\" + polymer_2\n",
    "else:\n",
    "    file_name += polymer_1\n",
    "file_name += \"_\"\n",
    "if filler_2:\n",
    "    file_name += filler_1 + \"-\" + filler_2\n",
    "else:\n",
    "    file_name += filler_1\n",
    "file_name += \"_\" + owner.replace(\" \", \"-\") + \".csv\"\n",
    "# print(filename)\n",
    "# Save to CSV files\n",
    "if not wt_l2:\n",
    "    wt_l2 = p.size * [\"\"]\n",
    "data_full = pd.DataFrame(\n",
    "    {\n",
    "        \"polymer_1\": p.size * [polymer_1],\n",
    "        \"polymer_p2\": p.size * [polymer_2],\n",
    "        \"ratio_1_2\": p.size * [ratio_1_2],\n",
    "        \"filler_1\": p.size * [filler_1],\n",
    "        \"wt_l1\": p,\n",
    "        \"filler_2\": p.size * [filler_2],\n",
    "        \"wt_l2\": wt_l2,\n",
    "        \"foaming\": p.size * [foaming],\n",
    "        \"conductivity\": sigma_noise,\n",
    "        \"owner\": owner,\n",
    "    }\n",
    ")\n",
    "data_full.to_csv(file_name, index=None)\n",
    "\n",
    "# np.savetxt(filename, (p,sigma_noise) , delimiter=\",\")\n",
    "\n",
    "plt.plot(p, sigma_noise, marker=\"+\", linestyle=\"None\")\n",
    "plt.plot(p, sigma, marker=\"+\", linestyle=\"None\")\n",
    "plt.yscale(\"log\")\n",
    "plt.ylim(0.001, 1000)\n",
    "plt.legend([\"Noised sigma\", \"Original sigma\"])\n",
    "plt.show()"
   ]
  },
  {
   "cell_type": "markdown",
   "id": "d17be79e",
   "metadata": {},
   "source": [
    "## Data set 3: HDPE & SWCNT"
   ]
  },
  {
   "cell_type": "code",
   "execution_count": 7,
   "id": "8fe95f08",
   "metadata": {},
   "outputs": [
    {
     "data": {
      "image/png": "[encoded data removed]",
      "text/plain": [
       "<Figure size 432x288 with 1 Axes>"
      ]
     },
     "metadata": {
      "needs_background": "light"
     },
     "output_type": "display_data"
    }
   ],
   "source": [
    "polymer_1 = \"HDPE\"\n",
    "filler_1 = \"SWCNT\"\n",
    "polymer_2 = \"\"\n",
    "ratio_1_2 = \"\"\n",
    "filler_2 = \"\"\n",
    "wt_l2 = \"\"\n",
    "foaming = 0  # no foam\n",
    "owner = \"data set 3\"\n",
    "file_name = \"data/\"\n",
    "\n",
    "sigma_not = 10000  # S/m\n",
    "pc = 0.2  # %\n",
    "t = 2\n",
    "noise = 80  # %\n",
    "# Generate data\n",
    "p, sigma, sigma_noise = generate_data(sigma_not, pc, t, noise)\n",
    "# Save to file\n",
    "if polymer_2:\n",
    "    file_name += polymer_1 + \"-\" + polymer_2\n",
    "else:\n",
    "    file_name += polymer_1\n",
    "file_name += \"_\"\n",
    "if filler_2:\n",
    "    file_name += filler_1 + \"-\" + filler_2\n",
    "else:\n",
    "    file_name += filler_1\n",
    "file_name += \"_\" + owner.replace(\" \", \"-\") + \".csv\"\n",
    "# print(filename)\n",
    "# Save to CSV files\n",
    "if not wt_l2:\n",
    "    wt_l2 = p.size * [\"\"]\n",
    "data_full = pd.DataFrame(\n",
    "    {\n",
    "        \"polymer_1\": p.size * [polymer_1],\n",
    "        \"polymer_p2\": p.size * [polymer_2],\n",
    "        \"ratio_1_2\": p.size * [ratio_1_2],\n",
    "        \"filler_1\": p.size * [filler_1],\n",
    "        \"wt_l1\": p,\n",
    "        \"filler_2\": p.size * [filler_2],\n",
    "        \"wt_l2\": wt_l2,\n",
    "        \"foaming\": p.size * [foaming],\n",
    "        \"conductivity\": sigma_noise,\n",
    "        \"owner\": owner,\n",
    "    }\n",
    ")\n",
    "data_full.to_csv(file_name, index=None)\n",
    "\n",
    "# np.savetxt(filename, (p,sigma_noise) , delimiter=\",\")\n",
    "\n",
    "plt.plot(p, sigma_noise, marker=\"+\", linestyle=\"None\")\n",
    "plt.plot(p, sigma, marker=\"+\", linestyle=\"None\")\n",
    "plt.yscale(\"log\")\n",
    "plt.ylim(0.001, 10000)\n",
    "plt.legend([\"Noised sigma\", \"Original sigma\"])\n",
    "plt.show()"
   ]
  },
  {
   "cell_type": "markdown",
   "id": "7ed7f073",
   "metadata": {},
   "source": [
    "## Data set 4: HDPE + GNP\n",
    "Note: Polymer is not treated => bad conductivity, high threshold (`pc`) to be conductive"
   ]
  },
  {
   "cell_type": "code",
   "execution_count": 8,
   "id": "3f02d71e",
   "metadata": {},
   "outputs": [
    {
     "data": {
      "image/png": "[encoded data removed]",
      "text/plain": [
       "<Figure size 432x288 with 1 Axes>"
      ]
     },
     "metadata": {
      "needs_background": "light"
     },
     "output_type": "display_data"
    }
   ],
   "source": [
    "polymer_1 = \"HDPE\"\n",
    "filler_1 = \"GNP\"\n",
    "polymer_2 = \"\"\n",
    "ratio_1_2 = \"\"\n",
    "filler_2 = \"\"\n",
    "wt_l2 = \"\"\n",
    "foaming = 0  # no foam\n",
    "owner = \"data set 4\"\n",
    "file_name = \"data/\"\n",
    "\n",
    "sigma_not = 10  # S/m\n",
    "pc = 3  # %\n",
    "t = 1.5\n",
    "noise = 80  # %\n",
    "# Generate data\n",
    "p, sigma, sigma_noise = generate_data(sigma_not, pc, t, noise)\n",
    "# Save to file\n",
    "if polymer_2:\n",
    "    file_name += polymer_1 + \"-\" + polymer_2\n",
    "else:\n",
    "    file_name += polymer_1\n",
    "file_name += \"_\"\n",
    "if filler_2:\n",
    "    file_name += filler_1 + \"-\" + filler_2\n",
    "else:\n",
    "    file_name += filler_1\n",
    "file_name += \"_\" + owner.replace(\" \", \"-\") + \".csv\"\n",
    "# print(filename)\n",
    "# Save to CSV files\n",
    "if not wt_l2:\n",
    "    wt_l2 = p.size * [\"\"]\n",
    "data_full = pd.DataFrame(\n",
    "    {\n",
    "        \"polymer_1\": p.size * [polymer_1],\n",
    "        \"polymer_p2\": p.size * [polymer_2],\n",
    "        \"ratio_1_2\": p.size * [ratio_1_2],\n",
    "        \"filler_1\": p.size * [filler_1],\n",
    "        \"wt_l1\": p,\n",
    "        \"filler_2\": p.size * [filler_2],\n",
    "        \"wt_l2\": wt_l2,\n",
    "        \"foaming\": p.size * [foaming],\n",
    "        \"conductivity\": sigma_noise,\n",
    "        \"owner\": owner,\n",
    "    }\n",
    ")\n",
    "data_full.to_csv(file_name, index=None)\n",
    "\n",
    "# np.savetxt(filename, (p,sigma_noise) , delimiter=\",\")\n",
    "\n",
    "plt.plot(p, sigma_noise, marker=\"+\", linestyle=\"None\")\n",
    "plt.plot(p, sigma, marker=\"+\", linestyle=\"None\")\n",
    "plt.yscale(\"log\")\n",
    "plt.ylim(0.0001, 100)\n",
    "plt.legend([\"Noised sigma\", \"Original sigma\"])\n",
    "plt.show()"
   ]
  },
  {
   "cell_type": "markdown",
   "id": "a33e205b",
   "metadata": {},
   "source": [
    "## Data set 5: HDPE_treated + GNP\n",
    "Now polymer is treated => better conductivity, lower threshold"
   ]
  },
  {
   "cell_type": "code",
   "execution_count": 9,
   "id": "512ddbb7",
   "metadata": {},
   "outputs": [
    {
     "data": {
      "image/png": "[encoded data removed]",
      "text/plain": [
       "<Figure size 432x288 with 1 Axes>"
      ]
     },
     "metadata": {
      "needs_background": "light"
     },
     "output_type": "display_data"
    }
   ],
   "source": [
    "polymer_1 = \"HDPEtreated\"\n",
    "filler_1 = \"GNP\"\n",
    "polymer_2 = \"\"\n",
    "ratio_1_2 = \"\"\n",
    "filler_2 = \"\"\n",
    "wt_l2 = \"\"\n",
    "foaming = 0  # no foam\n",
    "owner = \"data set 5\"\n",
    "file_name = \"data/\"\n",
    "\n",
    "sigma_not = 100  # S/m\n",
    "pc = 1  # %\n",
    "t = 1.5\n",
    "noise = 50  # %\n",
    "# Generate data\n",
    "p, sigma, sigma_noise = generate_data(sigma_not, pc, t, noise)\n",
    "# Save to file\n",
    "if polymer_2:\n",
    "    file_name += polymer_1 + \"-\" + polymer_2\n",
    "else:\n",
    "    file_name += polymer_1\n",
    "file_name += \"_\"\n",
    "if filler_2:\n",
    "    file_name += filler_1 + \"-\" + filler_2\n",
    "else:\n",
    "    file_name += filler_1\n",
    "file_name += \"_\" + owner.replace(\" \", \"-\") + \".csv\"\n",
    "# print(filename)\n",
    "# Save to CSV files\n",
    "if not wt_l2:\n",
    "    wt_l2 = p.size * [\"\"]\n",
    "data_full = pd.DataFrame(\n",
    "    {\n",
    "        \"polymer_1\": p.size * [polymer_1],\n",
    "        \"polymer_p2\": p.size * [polymer_2],\n",
    "        \"ratio_1_2\": p.size * [ratio_1_2],\n",
    "        \"filler_1\": p.size * [filler_1],\n",
    "        \"wt_l1\": p,\n",
    "        \"filler_2\": p.size * [filler_2],\n",
    "        \"wt_l2\": wt_l2,\n",
    "        \"foaming\": p.size * [foaming],\n",
    "        \"conductivity\": sigma_noise,\n",
    "        \"owner\": owner,\n",
    "    }\n",
    ")\n",
    "data_full.to_csv(file_name, index=None)\n",
    "\n",
    "# np.savetxt(filename, (p,sigma_noise) , delimiter=\",\")\n",
    "\n",
    "plt.plot(p, sigma_noise, marker=\"+\", linestyle=\"None\")\n",
    "plt.plot(p, sigma, marker=\"+\", linestyle=\"None\")\n",
    "plt.yscale(\"log\")\n",
    "plt.ylim(0.001, 100)\n",
    "plt.legend([\"Noised sigma\", \"Original sigma\"])\n",
    "plt.show()"
   ]
  },
  {
   "cell_type": "code",
   "execution_count": null,
   "id": "264b9563",
   "metadata": {},
   "outputs": [],
   "source": []
  },
  {
   "cell_type": "code",
   "execution_count": null,
   "id": "718d82ba",
   "metadata": {},
   "outputs": [],
   "source": []
  },
  {
   "cell_type": "code",
   "execution_count": null,
   "id": "07985d9a",
   "metadata": {},
   "outputs": [],
   "source": []
  },
  {
   "cell_type": "markdown",
   "id": "a770867c",
   "metadata": {},
   "source": [
    "# Import ALLs into ONE and save a new file"
   ]
  },
  {
   "cell_type": "code",
   "execution_count": 10,
   "id": "915549ec",
   "metadata": {},
   "outputs": [
    {
     "name": "stdout",
     "output_type": "stream",
     "text": [
      "data\\HDPEtreated_GNP_data-set-5.csv\n",
      "data\\HDPEtreated_MWCNT_data-set-2.csv\n",
      "data\\HDPE_GNP_data-set-4.csv\n",
      "data\\HDPE_MWCNT_data-set-1.csv\n",
      "data\\HDPE_SWCNT_data-set-3.csv\n"
     ]
    }
   ],
   "source": [
    "import glob\n",
    "import os\n",
    "\n",
    "path = \"data/\"  # use your path\n",
    "all_files = glob.glob(path + \"*.csv\")\n",
    "file_name_all_data = \"_nanocomposite_data.csv\"\n",
    "li = []\n",
    "\n",
    "for filename in all_files:\n",
    "    head, tail = os.path.split(filename)\n",
    "    if tail == file_name_all_data:\n",
    "        continue\n",
    "    print(filename)\n",
    "    df = pd.read_csv(filename, index_col=None, header=0)\n",
    "    li.append(df)\n",
    "\n",
    "alldata = pd.concat(li, axis=0, ignore_index=True)\n",
    "alldata.to_csv(path + file_name_all_data, index=None)"
   ]
  }
 ],
 "metadata": {
  "kernelspec": {
   "display_name": "Python 3 (ipykernel)",
   "language": "python",
   "name": "python3"
  },
  "language_info": {
   "codemirror_mode": {
    "name": "ipython",
    "version": 3
   },
   "file_extension": ".py",
   "mimetype": "text/x-python",
   "name": "python",
   "nbconvert_exporter": "python",
   "pygments_lexer": "ipython3",
   "version": "3.9.12"
  }
 },
 "nbformat": 4,
 "nbformat_minor": 5
}
