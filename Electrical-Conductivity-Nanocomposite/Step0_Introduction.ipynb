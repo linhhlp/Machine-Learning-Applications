{
 "cells": [
  {
   "attachments": {},
   "cell_type": "markdown",
   "id": "dfd53c25",
   "metadata": {},
   "source": [
    "# Prediction of Electrical Conductivity"
   ]
  },
  {
   "attachments": {},
   "cell_type": "markdown",
   "id": "13536e6e",
   "metadata": {},
   "source": [
    "## Overview\n",
    "\n",
    "The Program is broken into several sections, which are each presented in their own notebook:\n",
    "\n",
    "1.  [Generating Data](Step1_Generation_random_input_data.ipynb)\n",
    "2.  [Visualizing Data](Step2_Visualize_data.ipynb)\n",
    "3.  [Training Model](Step3_Train_model.ipynb)\n",
    "4.  [Evaluating Model](Step4_Evaluate_model.ipynb)\n",
    "5.  [Predicting the Future](Step5_Predict_Future.ipynb)\n",
    "6.  [Optimizing Model](Step6_Optimization.ipynb)\n",
    "\n",
    "    a. [Scaler Impact for X- and Y- data](Step6_Optimization_Scaler-impact.ipynb)\n",
    "    \n",
    "    b. [Hyperparameter Tuning with the HParams Dashboard](Step6_Optimization-Layers-and-Activation.ipynb)\n",
    "    \n",
    "    c. [Optimizer Algorithms and Learning Rate](Step6_Optimization-Optimizer-and-LR.ipynb)\n",
    "    \n",
    "    \n",
    "7.  [Upload to Cloud](Step7_Upload_to_Cloud.ipynb)"
   ]
  },
  {
   "attachments": {},
   "cell_type": "markdown",
   "id": "0675ea04",
   "metadata": {},
   "source": [
    "## Introduction"
   ]
  },
  {
   "attachments": {},
   "cell_type": "markdown",
   "id": "f450f0f0",
   "metadata": {},
   "source": [
    "Welcome to my Machine-Learning project to predict the electrical conductivity of Nanofillers Reinforced Polymer Nanocomposites.\n",
    "\n",
    "The popular polymers are not normally conductive (except some conductive polymers). To make them conductive, the materials can be reinforced with conductive nanofillers. Common nanofillers are Single-wall or Multiple-wall Carbon Nanotube, Graphene. However, the electrical conductive does not increase linearly with the amount of mixed fillers. The traditional method to predict electrical conductivity is based on an exponential equation, or to build a model of random resistor networks to calculate the conductivity.\n",
    "\n",
    "Recently, Artificial Intelligence is growing very fast and intensively applied in many fields. This project demonstrates how to apply Tensorflow to predict Electrical Conductivity based on a known data set.\n",
    "\n",
    "The data used in this simulation is not actual data. Instead, the data is generated with noise by using the exponential equation with different parameters for different pairs of composites. However, some resources for experimental data will be cited as references."
   ]
  },
  {
   "attachments": {},
   "cell_type": "markdown",
   "id": "9482f801",
   "metadata": {},
   "source": [
    "## Setup"
   ]
  },
  {
   "attachments": {},
   "cell_type": "markdown",
   "id": "2d62a598",
   "metadata": {},
   "source": [
    "### Clone or download the repo\n",
    "First get local copies of the program:\n",
    "\n",
    "https://github.com/linhhlp/Machine-Learning-Applications\n",
    "\n",
    "### Install the dependencies\n",
    "\n",
    "This program has been developed and tested on:\n",
    "\n",
    "* python 3.9.10\n",
    "* pandas 1.3.5\n",
    "* notebook 6.4.6\n",
    "* numpy 1.21.5\n",
    "* tensorflow 2.6.0\n",
    "* sklearn 1.0.2\n",
    "* matplotlib: 3.5.1\n",
    "* seaborn 0.11.2\n",
    "\n",
    "The quickest, easiest way to install is to use Anaconda:\n",
    "\n",
    "#### Installing with anaconda\n",
    "\n",
    "Install [anaconda](http://anaconda.com/downloads)\n",
    "\n",
    "The quickest, easiest way to install dependencies is to use the command line to create an environment and install the packages:\n",
    "\n",
    "```bash\n",
    "$ conda env create\n",
    "$ source activate new_env\n",
    "```\n",
    "\n",
    "Install the remaining dependencies with:\n",
    "\n",
    "```bash\n",
    "conda install tensorflow sklearn seaborn\n",
    "```"
   ]
  },
  {
   "attachments": {},
   "cell_type": "markdown",
   "id": "15ce6fe6",
   "metadata": {},
   "source": [
    "## Notes"
   ]
  },
  {
   "attachments": {},
   "cell_type": "markdown",
   "id": "9be105f3",
   "metadata": {},
   "source": [
    "### Data\n",
    "To use actual data, consider published journal papers with experimental data. Here are some citations.\n",
    "\n",
    "1. Some experimental data presented: https://aip.scitation.org/doi/10.1063/1.4818478\n",
    "2. Treated polymer: https://aip.scitation.org/doi/10.1063/1.4902175\n",
    "\n",
    "In this program, the data is __randomly generated__ following the __exponential equation__ for demo purposes.\n",
    "\n",
    "### Sensitivity / High Variation\n",
    "Actual electrical conductivity is in a high range of magnitude orders, from extremely low (barely conductive) to super high (very conductivity). Such as from 1e-3 to 1e3 S/m.\n",
    "\n",
    "Log scale is often used to present electrical conductivity. Scaling data is very important to predict accurately at low magnitude orders.\n",
    "\n",
    "The loss function needs to be chosen carefully to take care of this issue."
   ]
  },
  {
   "cell_type": "code",
   "execution_count": null,
   "id": "c50ac598",
   "metadata": {},
   "outputs": [],
   "source": []
  }
 ],
 "metadata": {
  "kernelspec": {
   "display_name": "Python 3 (ipykernel)",
   "language": "python",
   "name": "python3"
  },
  "language_info": {
   "codemirror_mode": {
    "name": "ipython",
    "version": 3
   },
   "file_extension": ".py",
   "mimetype": "text/x-python",
   "name": "python",
   "nbconvert_exporter": "python",
   "pygments_lexer": "ipython3",
   "version": "3.9.10"
  }
 },
 "nbformat": 4,
 "nbformat_minor": 5
}
