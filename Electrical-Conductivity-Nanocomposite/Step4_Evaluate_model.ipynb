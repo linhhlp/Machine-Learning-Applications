{
 "cells": [
  {
   "cell_type": "markdown",
   "id": "42eca9cf",
   "metadata": {},
   "source": [
    "# Evaluating Model\n",
    "\n",
    "## Extrapolation: Estimate higher wt $(>25 \\%)$\n",
    "\n",
    "Training data only input up to 25% wt% of filler. The unknown range from 25 to 50% is extrapolated in this session."
   ]
  },
  {
   "cell_type": "code",
   "execution_count": 1,
   "id": "e0095174",
   "metadata": {},
   "outputs": [],
   "source": [
    "import matplotlib.pyplot as plt\n",
    "import numpy as np\n",
    "import pandas as pd\n",
    "import seaborn as sns\n",
    "import tensorflow as tf\n",
    "\n",
    "# Import this module's functions\n",
    "from functions import (\n",
    "    SuperHighVariationScaler,\n",
    "    map_num_to_string,\n",
    "    map_string_to_num,\n",
    "    safe_log10,\n",
    "    sparse_array,\n",
    ")"
   ]
  },
  {
   "cell_type": "markdown",
   "id": "54de32df",
   "metadata": {},
   "source": [
    "## Import data\n",
    "\n",
    "The data-set-8 has actual values of conductivity for wt% from $0 \\%$ to $50 \\%$. "
   ]
  },
  {
   "cell_type": "code",
   "execution_count": 2,
   "id": "ad28e330",
   "metadata": {
    "scrolled": true
   },
   "outputs": [
    {
     "data": {
      "text/html": [
       "<div>\n",
       "<style scoped>\n",
       "    .dataframe tbody tr th:only-of-type {\n",
       "        vertical-align: middle;\n",
       "    }\n",
       "\n",
       "    .dataframe tbody tr th {\n",
       "        vertical-align: top;\n",
       "    }\n",
       "\n",
       "    .dataframe thead th {\n",
       "        text-align: right;\n",
       "    }\n",
       "</style>\n",
       "<table border=\"1\" class=\"dataframe\">\n",
       "  <thead>\n",
       "    <tr style=\"text-align: right;\">\n",
       "      <th></th>\n",
       "      <th>polymer_1</th>\n",
       "      <th>filler_1</th>\n",
       "      <th>wt_l1</th>\n",
       "      <th>conductivity</th>\n",
       "    </tr>\n",
       "  </thead>\n",
       "  <tbody>\n",
       "    <tr>\n",
       "      <th>0</th>\n",
       "      <td>0</td>\n",
       "      <td>1</td>\n",
       "      <td>26.818297</td>\n",
       "      <td>708.533755</td>\n",
       "    </tr>\n",
       "    <tr>\n",
       "      <th>1</th>\n",
       "      <td>0</td>\n",
       "      <td>1</td>\n",
       "      <td>25.749656</td>\n",
       "      <td>652.784933</td>\n",
       "    </tr>\n",
       "    <tr>\n",
       "      <th>2</th>\n",
       "      <td>0</td>\n",
       "      <td>1</td>\n",
       "      <td>1.045467</td>\n",
       "      <td>0.714814</td>\n",
       "    </tr>\n",
       "    <tr>\n",
       "      <th>3</th>\n",
       "      <td>0</td>\n",
       "      <td>1</td>\n",
       "      <td>14.253655</td>\n",
       "      <td>197.505216</td>\n",
       "    </tr>\n",
       "    <tr>\n",
       "      <th>4</th>\n",
       "      <td>0</td>\n",
       "      <td>1</td>\n",
       "      <td>16.579815</td>\n",
       "      <td>268.298345</td>\n",
       "    </tr>\n",
       "  </tbody>\n",
       "</table>\n",
       "</div>"
      ],
      "text/plain": [
       "   polymer_1  filler_1      wt_l1  conductivity\n",
       "0          0         1  26.818297    708.533755\n",
       "1          0         1  25.749656    652.784933\n",
       "2          0         1   1.045467      0.714814\n",
       "3          0         1  14.253655    197.505216\n",
       "4          0         1  16.579815    268.298345"
      ]
     },
     "execution_count": 2,
     "metadata": {},
     "output_type": "execute_result"
    }
   ],
   "source": [
    "file_name_all_data = \"data-evaluation/HDPE_SWCNT_data-set-8.csv\"\n",
    "all_data = pd.read_csv(file_name_all_data, index_col=None, header=0)\n",
    "# Drop columns which are not used for now\n",
    "all_data_clean = all_data.drop(\n",
    "    [\"polymer_p2\", \"ratio_1_2\", \"filler_2\", \"wt_l2\", \"owner\", \"foaming\"],\n",
    "    axis=1,\n",
    ")  # , inplace=True\n",
    "all_data_clean = map_string_to_num(all_data_clean)\n",
    "all_data_clean.head()"
   ]
  },
  {
   "cell_type": "markdown",
   "id": "62cb9268",
   "metadata": {},
   "source": [
    "## Loading saved data\n",
    "\n",
    "Loading saved model and scalers"
   ]
  },
  {
   "cell_type": "code",
   "execution_count": 3,
   "id": "bdd4698d",
   "metadata": {},
   "outputs": [],
   "source": [
    "from pickle import load\n",
    "\n",
    "# Load model\n",
    "model = tf.keras.models.load_model('saved/predictor-conductivity-model')\n",
    "\n",
    "# Load scaler\n",
    "X_scaler = load(open('saved/X_scaler.pkl', 'rb'))\n",
    "Y_scaler = load(open('saved/Y_scaler.pkl', 'rb'))"
   ]
  },
  {
   "cell_type": "markdown",
   "id": "ec53a98f",
   "metadata": {},
   "source": [
    "# Extrapolation: Estimate higher wt (>25%)"
   ]
  },
  {
   "cell_type": "raw",
   "id": "24727ba0",
   "metadata": {},
   "source": [
    "# The data-set-7 is with empty conductivity. \n",
    "# Change from `markdown` to `code` if you have date for this test.\n",
    "filename_unknowndata7 = \"data-evaluation/HDPE_SWCNT_data-set-7.csv\"\n",
    "unknowndata7 = pd.read_csv(filename_unknowndata7, index_col=None, header=0)\n",
    "#alldata['labels'] = alldata['polymer_1'] + \"-\" + alldata['filler_1']\n",
    "unknowndata7.drop(['polymer_p2', 'ratio_1_2','filler_2','wt_l2','owner','foaming'], axis=1, inplace=True)   #,'foaming'\n",
    "unknowndata7_clean = unknowndata7.copy()\n",
    "unknowndata7_clean = mapStringToNum(unknowndata7_clean)\n",
    "#unknowndata7_clean.head()"
   ]
  },
  {
   "cell_type": "code",
   "execution_count": 4,
   "id": "4f562b73",
   "metadata": {},
   "outputs": [],
   "source": [
    "# Easier to re-use data\n",
    "unknown_data7 = all_data.copy()\n",
    "unknown_data7_clean = all_data_clean.copy()"
   ]
  },
  {
   "cell_type": "code",
   "execution_count": 5,
   "id": "f2e8bd1c",
   "metadata": {},
   "outputs": [],
   "source": [
    "# Pull out columns for X (features)\n",
    "X_unknown_data7 = unknown_data7_clean.drop('conductivity', axis=1).values\n",
    "X_scaled_unknown_data7 = X_scaler.transform(X_unknown_data7)\n",
    "# Calculate predictions\n",
    "pred_unknown_data7 = model.predict(X_scaled_unknown_data7)\n",
    "pred_unknown_data7 = Y_scaler.inverse_transform(pred_unknown_data7)"
   ]
  },
  {
   "cell_type": "code",
   "execution_count": 6,
   "id": "0f6b47d4",
   "metadata": {},
   "outputs": [
    {
     "data": {
      "image/png": "[encoded data removed]",
      "text/plain": [
       "<Figure size 1080x432 with 1 Axes>"
      ]
     },
     "metadata": {
      "needs_background": "light"
     },
     "output_type": "display_data"
    }
   ],
   "source": [
    "complete_data = unknown_data7.copy()\n",
    "complete_data[\"labels\"] = (\n",
    "    complete_data[\"polymer_1\"]\n",
    "    + \"-\"\n",
    "    + complete_data[\"filler_1\"]\n",
    "    + \"_predicted_unknown\"\n",
    ")\n",
    "complete_data[\"conductivity\"] = pred_unknown_data7\n",
    "\n",
    "all_data[\"labels\"] = (\n",
    "    all_data[\"polymer_1\"] + \"-\" + all_data[\"filler_1\"] + \"_actual_data\"\n",
    ")\n",
    "complete_data_concat = pd.concat([complete_data, all_data], ignore_index=True)\n",
    "\n",
    "# reduce data rows to 10% (sparse data)\n",
    "complete_data_subset = sparse_array(complete_data_concat, 0.9)\n",
    "\n",
    "fig_dims = (15, 6)\n",
    "fig, ax = plt.subplots(figsize=fig_dims)\n",
    "plt.xlabel(\"weight fraction (%)\")\n",
    "plt.ylabel(\"conductivity (S/m)\")\n",
    "plt.yscale(\"log\")\n",
    "g = sns.scatterplot(\n",
    "    data=complete_data_subset,\n",
    "    x=\"wt_l1\",\n",
    "    y=\"conductivity\",\n",
    "    hue=\"labels\",\n",
    "    ax=ax,\n",
    "    markers=[\"-\", \"x\"],\n",
    ")"
   ]
  },
  {
   "cell_type": "markdown",
   "id": "c039f220",
   "metadata": {},
   "source": [
    "## Calculating Error Metrics\n",
    "\n",
    "Let calculate the average difference in magnitude of order: for wt% from $25\\%$ to $50 \\%$"
   ]
  },
  {
   "cell_type": "code",
   "execution_count": 7,
   "id": "9b4b4199",
   "metadata": {},
   "outputs": [
    {
     "name": "stdout",
     "output_type": "stream",
     "text": [
      "Mean Absolute Percentage Error = 108 %\n",
      "Mean Absolute Percentage Logarithmic Error = 8 %\n",
      "Root Mean Squared Error = 3267, where 1st value = 29, last value = 2250\n",
      "Root Mean Squared Logarithmic Error = 0.34\n"
     ]
    },
    {
     "data": {
      "image/png": "[encoded data removed]",
      "text/plain": [
       "<Figure size 1296x360 with 2 Axes>"
      ]
     },
     "metadata": {
      "needs_background": "light"
     },
     "output_type": "display_data"
    }
   ],
   "source": [
    "wt_gt25_index = all_data.wt_l1 > 25\n",
    "conductivity_actual = all_data[wt_gt25_index].conductivity.copy()\n",
    "conductivity_predicted = pred_unknown_data7[\n",
    "    wt_gt25_index\n",
    "].flatten()  # compdata.conductivity.copy()\n",
    "x_range = X_unknown_data7[wt_gt25_index][:, 2]\n",
    "\n",
    "\"\"\"First Plot: Percentage Error.\"\"\"\n",
    "# Mean Absolute Percentage Error\n",
    "conductivity_mape_array = 100.0 * np.abs(\n",
    "    (conductivity_actual - conductivity_predicted) / conductivity_actual\n",
    ")\n",
    "conductivity_mape = np.mean(conductivity_mape_array)\n",
    "# Mean Absolute Percentage Logarithmic Error\n",
    "conductivity_maple_array = 100.0 * np.abs(\n",
    "    (safe_log10(conductivity_actual) - safe_log10(conductivity_predicted))\n",
    "    / safe_log10(conductivity_actual)\n",
    ")\n",
    "conductivity_maple = np.mean(conductivity_maple_array)\n",
    "\n",
    "fig, (ax1, ax2) = plt.subplots(1, 2, figsize=(18, 5))\n",
    "ax1.plot(\n",
    "    x_range,\n",
    "    conductivity_mape_array,\n",
    "    label=\"Mean Absolute Percentage Error\",\n",
    "    linestyle=\"None\",\n",
    "    marker=\"+\",\n",
    ")\n",
    "ax1.plot(\n",
    "    x_range,\n",
    "    conductivity_maple_array,\n",
    "    label=\"Mean Absolute Percentage Logarithmic Error\",\n",
    "    linestyle=\"None\",\n",
    "    marker=\"o\",\n",
    ")\n",
    "ax1.set(xlabel=\"weight fraction (%)\", ylabel=\"Error (%)\", yscale=\"log\")\n",
    "ax1.legend()\n",
    "\n",
    "\"\"\"Second Plot: Root Mean Squared.\"\"\"\n",
    "import math\n",
    "\n",
    "# RMSE (Root Mean Squared Error)\n",
    "conductivity_rmse_array = np.abs(\n",
    "    np.subtract(conductivity_actual, conductivity_predicted)\n",
    ")\n",
    "conductivity_rmse = math.sqrt(np.mean(np.square(conductivity_rmse_array)))\n",
    "# RMSLE (Root Mean Squared Logarithmic Error)\n",
    "conductivity_rmsle_array = np.abs(\n",
    "    np.subtract(\n",
    "        safe_log10(conductivity_actual), safe_log10(conductivity_predicted)\n",
    "    )\n",
    ")\n",
    "conductivity_rmsle = math.sqrt(np.mean(np.square(conductivity_rmsle_array)))\n",
    "\n",
    "ax2.plot(\n",
    "    x_range,\n",
    "    conductivity_rmse_array,\n",
    "    label=\"Root Mean Squared Error\",\n",
    "    linestyle=\"None\",\n",
    "    marker=\"+\",\n",
    ")\n",
    "ax2.plot(\n",
    "    x_range,\n",
    "    conductivity_rmsle_array,\n",
    "    label=\"Root Mean Squared Logarithmic Error\",\n",
    "    linestyle=\"None\",\n",
    "    marker=\"o\",\n",
    ")\n",
    "ax2.set(xlabel=\"weight fraction (%)\", ylabel=\"Error\", yscale=\"log\")\n",
    "ax2.legend()\n",
    "\n",
    "\"\"\"Print summary.\"\"\"\n",
    "print(\"Mean Absolute Percentage Error = {0:.0f} %\".format(conductivity_mape))\n",
    "print(\n",
    "    \"Mean Absolute Percentage Logarithmic Error = {0:.0f} %\".format(\n",
    "        conductivity_maple\n",
    "    )\n",
    ")\n",
    "print(\n",
    "    \"Root Mean Squared Error = {0:.0f}, where 1st value = {1:.0f}, last value = {2:.0f}\".format(\n",
    "        conductivity_rmse,\n",
    "        conductivity_rmse_array.iloc[0],\n",
    "        conductivity_rmse_array.iloc[-1],\n",
    "    )\n",
    ")\n",
    "print(\n",
    "    \"Root Mean Squared Logarithmic Error = {0:.2f}\".format(conductivity_rmsle)\n",
    ")"
   ]
  },
  {
   "cell_type": "markdown",
   "id": "376d6b24",
   "metadata": {},
   "source": [
    "## Notice about the results and error calculation\n",
    "\n",
    "It's clear that, without Logarithmic Conversion, the errors seem to vary highly. In cases of Root Mean Squared Error, it is thousands. Because the amount of difference depends on the magnitude and increases dramatically when it is squared.\n",
    "\n",
    "However, in electrical conductivity for nanocomposite material field, comparing the magnitude of order is accepted as standard. Hence, it is important to let Machine Learning converge fast with suitable loss functions."
   ]
  },
  {
   "cell_type": "markdown",
   "id": "cc01e62a",
   "metadata": {},
   "source": [
    "# Conclusion\n",
    "\n",
    "## Results are acceptable\n",
    "The difference between prediction and experiment is within one order of magnitude, which is acceptable.\n",
    "\n",
    "## Issues\n",
    "There are strange behaviors at a range of around 5%. \n",
    "\n",
    "However, our data (conductivity) of different fillers are highly divergent. The carbon nanotube has much higher intrinsic conductivity, leading CNT-based composite to have much higher electrical conductivity than the GNP one. \n",
    "\n",
    "Therefore, this behavior is forecasted."
   ]
  },
  {
   "cell_type": "code",
   "execution_count": null,
   "id": "e687c3c5",
   "metadata": {},
   "outputs": [],
   "source": []
  }
 ],
 "metadata": {
  "kernelspec": {
   "display_name": "Python 3 (ipykernel)",
   "language": "python",
   "name": "python3"
  },
  "language_info": {
   "codemirror_mode": {
    "name": "ipython",
    "version": 3
   },
   "file_extension": ".py",
   "mimetype": "text/x-python",
   "name": "python",
   "nbconvert_exporter": "python",
   "pygments_lexer": "ipython3",
   "version": "3.9.12"
  }
 },
 "nbformat": 4,
 "nbformat_minor": 5
}
