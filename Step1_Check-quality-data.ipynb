{
 "cells": [
  {
   "cell_type": "markdown",
   "id": "33f1993f",
   "metadata": {},
   "source": [
    "# Checking Data\n",
    "\n",
    "## Checking the quality of data and cleaning it\n",
    "\n",
    "Before extracting information from data, we need to check its quality to ensure:\n",
    "\n",
    "1. Data type and format: Remove unwanted values. For example, the name of a person can not be a number. \n",
    "\n",
    "2. Duplicate data: Duplicated records might cause biases in Machine Learning\n",
    "\n",
    "3. Missing data: There is perhaps a (or couple of) empty field(s) in data. This missing information might not be retrieved.\n",
    "\n",
    "4. Balance in data: uneven distribution of observations might reveal bias or unreliable predictions. In an example of fraud detection, you have 5% of fraud records, so your model could predict the accuracy of 95%. It sounds good, but it is unreliable.\n",
    "\n",
    "When we prepare and process the data, either remove the records or fill them with some values (a mean value), altered data will affect the final prediction. We might need to investigate how much the impact is.\n",
    "\n",
    "## There are other steps when working with unknown data:\n",
    "\n",
    "1. There is a subset of data, or data fields were labeled differently.\n",
    "\n",
    "2. Repetitive errors in which information could be retrieved.\n",
    "\n",
    "3. Damage occurs when moving data. The original data is still good, but the working data was damaged, lost, or crashed.\n",
    "\n",
    "4. Data is not enough to generalize the problem. Too much data might slow down dramatically the process of training.\n",
    "\n",
    "5. Remove noise or outliers. If you already know noise data and rare outliers, then it's safe to remove them.\n",
    "\n",
    "6. Any abnormal or singular data you find out could be revised carefully."
   ]
  },
  {
   "cell_type": "markdown",
   "id": "080519f2",
   "metadata": {},
   "source": [
    "# Cleaning data\n",
    "\n",
    "## Removing the missing records\n",
    "\n",
    "We can delete rows or columns where\n",
    "1. Any missing\n",
    "2. All/most missing\n",
    "3. Under a condition to be removed\n",
    "\n",
    "By reducing the size of the data, we can train the model faster. However, the model can be less accurate and in cases, the number of deleted records is too large, the prediction is unreliable.\n",
    "\n",
    "## Filling data\n",
    "\n",
    "Besides removing the whole record where the issue occurs, we can fill or replace the missing or bad data with:\n",
    "> ### Numeric field\n",
    "1. Mean or median values. (They are less impact on the overall)\n",
    "2. Mode (or most frequent) values.\n",
    "2. Zero (0).\n",
    "\n",
    "> ### Categorical field\n",
    "1. The most frequent item\n",
    "2. new item in cases of huge missing.\n",
    "3. N/A\n",
    "\n",
    "Although it has little impact overall, the data leakage might occur because the model is learning on external information (i.e., artificial data). [Read more](https://machinelearningmastery.com/data-leakage-machine-learning/)\n",
    "\n",
    "> ### Prediction \n",
    "1. Based on a pattern: Using other available fields to guess a suitable value.\n",
    "2. Interpolation and extrapolation: For example, an event time between 2 neighbor events, or value following a distribution / function.\n",
    "2. Constraint or the nature of data type. For example, the age of people hardly is over 100 years; a number of people is an integer; \n",
    "3. Python Library: [DataWig](https://github.com/awslabs/datawig) or [Impyute](https://github.com/eltonlaw/impyute) could be a good handler for missing values. These packages could easily install via `pip`.\n",
    "4. Random select a value from available lists.\n",
    "\n",
    "## Multiple Imputation\n",
    "\n",
    "Although the filling values seem accurate, it is not actual. And any artificial method has its own bias. By combining many of them, we can elimenate the bias and have better data analysis. [Read more here](https://www.theanalysisfactor.com/missing-data-two-recommended-solutions/)\n",
    "\n",
    "## Conclusion\n",
    "Despite the model could learn better with more accurate information, the filling process might take more time, effort to carefully predict the true value. It causes bias if the guess is totally wrong.\n",
    "\n",
    "That's why we want to utilize the external tools to speed up the process yet produce high accuracies."
   ]
  },
  {
   "cell_type": "markdown",
   "id": "1966a589",
   "metadata": {},
   "source": [
    "# Tools for imputation\n",
    "\n",
    "On GitHub, there are several tools which support the process of imputing data. Some of the most popular are:\n",
    "\n",
    "1. DataWig, [link GitHub](https://github.com/awslabs/datawig)\n",
    "\n",
    "2. Impyute, [link GitHub](https://github.com/eltonlaw/impyute)"
   ]
  },
  {
   "cell_type": "code",
   "execution_count": 2,
   "id": "44b28a15",
   "metadata": {},
   "outputs": [],
   "source": [
    "import numpy as np\n",
    "import pandas as pd\n",
    "import matplotlib.pyplot as plt\n",
    "import seaborn as sns\n",
    "# Sparse data randomly for plotting when there are too many points of data (visibility)\n",
    "from functions import sparseArray"
   ]
  },
  {
   "cell_type": "markdown",
   "id": "7bac7a11",
   "metadata": {},
   "source": [
    "## Importing all data\n",
    "Checking first 5 rows and info of data"
   ]
  },
  {
   "cell_type": "markdown",
   "id": "08c46ada",
   "metadata": {},
   "source": [
    "## To be continued"
   ]
  }
 ],
 "metadata": {
  "kernelspec": {
   "display_name": "Python 3 (ipykernel)",
   "language": "python",
   "name": "python3"
  },
  "language_info": {
   "codemirror_mode": {
    "name": "ipython",
    "version": 3
   },
   "file_extension": ".py",
   "mimetype": "text/x-python",
   "name": "python",
   "nbconvert_exporter": "python",
   "pygments_lexer": "ipython3",
   "version": "3.9.10"
  }
 },
 "nbformat": 4,
 "nbformat_minor": 5
}
