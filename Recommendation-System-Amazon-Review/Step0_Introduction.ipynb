{
 "cells": [
  {
   "attachments": {},
   "cell_type": "markdown",
   "id": "dfd53c25",
   "metadata": {},
   "source": [
    "# Recommendation systems & Tools for Data Imputation"
   ]
  },
  {
   "attachments": {},
   "cell_type": "markdown",
   "id": "13536e6e",
   "metadata": {},
   "source": [
    "## Overview\n",
    "\n",
    "The Program is divided into several sections, which are each presented in their own notebook:\n",
    "\n",
    "1. [Introduction](Step0_Introduction.ipynb)\n",
    "2. [Checking Data](Step1_Check-quality-data.ipynb)\n",
    "3. [Visualizing Data](Step2_Visualize-data.ipynb)\n",
    "4. [Building Models](Step3_Build-model.ipynb)\n",
    "5. [Adding Context to Model](Step4_Context-model.ipynb)\n",
    "\n",
    "**Note:** There are some issues with rendering Notebook files by GitHub, which show empty outputs. Please download to test locally or visit the links from my other sites."
   ]
  },
  {
   "attachments": {},
   "cell_type": "markdown",
   "id": "0675ea04",
   "metadata": {},
   "source": [
    "## Introduction"
   ]
  },
  {
   "attachments": {},
   "cell_type": "markdown",
   "id": "f450f0f0",
   "metadata": {},
   "source": [
    "Welcome to my personal project about popular tools to ease the process of imputing data. The work is demonstrated in the case of recommendation systems based on Amazon reviews.\n",
    "\n",
    "Nowadays, recommendation systems are one of the most important keys for the success of e-commerce platforms such as Amazon and other online retailers, because:\n",
    "\n",
    "1. It recommends the user find the right product.\n",
    "\n",
    "2. It recommends the users to other interesting products which can increase the user's engagement. For example, there are 40% more clicks on Google News due to recommendations.\n",
    "\n",
    "3. It helps the item providers to deliver the items to the right user. On Amazon, 35 % of products get sold due to recommendations.\n",
    "\n",
    "4. It recommends the users based on their liking to make the content more personalized. On Netflix, most of the rented movies are from recommendations.\n",
    "\n",
    "Missing data is a real-world problem and often happens with every type of data. Many reasons cause this issue, such as inconsistently collecting information, damaged data due to crashed storage or on the way moving, human errors and biases, conflicts between datasets. It is problematic because complete data is needed to be analyzed accurately.\n",
    "\n",
    "Simply deleting missing records is not work well in many cases, especially the missing data takes a large proportion or in a small dataset. Hence, Data Imputation is very important in Machine Learning. It helps reserve data and makes more meaningful out of missing data. Data Engineers or Scientists could check the data quality manually and find out missing data. After that, they can clean it by filling empty values with less meaningful values such as the Average, Mean, or Mode.\n",
    "\n",
    "Besides, some Machine Learning algorithms such as KNN (K – Nearest Neighbour) and SVM (Support Vector Machines) or Random Forest could work well with missing data. KNN uses other fields to cluster by the K nearest values so that it is generally effective to work with missing values. Random Forest manipulates various types of missing data by addressing interactions and nonlinearity to scale to high dimensions. Read more [here](https://www.ncbi.nlm.nih.gov/pmc/articles/PMC5796790/) and [other algorithms here](https://www.researchgate.net/publication/297047624_The_role_of_imputation_in_detecting_fraudulent_financial_reporting)."
   ]
  },
  {
   "attachments": {},
   "cell_type": "markdown",
   "id": "3502cb9c",
   "metadata": {},
   "source": [
    "## Types of Recommendation Systems\n",
    "\n",
    "There are mainly 3 types of recommendations systems:\n",
    "\n",
    "1. Content-based recommendations. It is based on the information of the content of the items (such as the price of a product or its color) rather than on the user opinions. The main idea is if the user likes an item, then he or she will like the \"other\" similar item.\n",
    "\n",
    "2. Collaborative Filtering. It is based on the assumption that people like things similar to other things they liked, and things that are liked by other people with similar tastes. It is mainly of two types: a) User-User; b) Item -Item; and c) mix of user and item-based.\n",
    "  \n",
    "3. Hybrid Approaches: This system approach combines collaborative filtering, content-based filtering, and other approaches. \n",
    "\n",
    "Others approaches:\n",
    "\n",
    "1. Popularity-based systems. It works by recommending items viewed and purchased by most people and are rated high. It is not a personalized recommendation.\n",
    "\n",
    "2. Classification model-based. It works by understanding the features of the user and applying the classification algorithm to decide whether the user is interested or not in the product.\n",
    "\n",
    "3. Association rule mining: Association rules capture the relationships between items based on their patterns of co-occurrence across transactions in large databases. It is intended to identify strong rules discovered in databases using some measures of interestingness.\n"
   ]
  },
  {
   "attachments": {},
   "cell_type": "markdown",
   "id": "9482f801",
   "metadata": {},
   "source": [
    "## Setup"
   ]
  },
  {
   "attachments": {},
   "cell_type": "markdown",
   "id": "2d62a598",
   "metadata": {},
   "source": [
    "### Clone or download the repo\n",
    "First get local copies of the program:\n",
    "\n",
    "https://github.com/linhhlp/Machine-Learning-Applications\n",
    "\n",
    "### Install the dependencies\n",
    "\n",
    "This program has been developed and tested on:\n",
    "\n",
    "* python 3.9.10\n",
    "* pandas 1.4.1\n",
    "* notebook 6.4.8\n",
    "* numpy 1.22.2\n",
    "* tensorflow 2.6.0\n",
    "* sklearn 1.0.2\n",
    "* matplotlib: 3.5.1\n",
    "* seaborn 0.11.2\n",
    "* statsmodels 0.13.2\n",
    "* Kaggle learntools\n",
    "\n",
    "The quickest, easiest way to install is to use Anaconda:\n",
    "\n",
    "#### Installing with anaconda\n",
    "\n",
    "Install [anaconda](http://anaconda.com/downloads)\n",
    "\n",
    "The quickest, easiest way to install dependencies is to use the command line to create an environment and install the packages:\n",
    "\n",
    "```bash\n",
    "$ conda env create\n",
    "$ source activate new_env\n",
    "```\n",
    "\n",
    "Install the remaining dependencies with:\n",
    "\n",
    "```bash\n",
    "conda install tensorflow sklearn seaborn\n",
    "```"
   ]
  },
  {
   "attachments": {},
   "cell_type": "markdown",
   "id": "15ce6fe6",
   "metadata": {},
   "source": [
    "## References"
   ]
  },
  {
   "attachments": {},
   "cell_type": "markdown",
   "id": "9be105f3",
   "metadata": {},
   "source": [
    "### Databases\n",
    "\n",
    "The databases were from [Kaggle](https://www.kaggle.com/datasets/saurav9786/amazon-product-reviews) and [original source](http://jmcauley.ucsd.edu/data/amazon/)\n",
    "\n",
    "**Citations:**\n",
    "1. Ups and downs: Modeling the visual evolution of fashion trends with one-class collaborative filtering\n",
    "\n",
    "R. He, J. McAuley\n",
    "\n",
    "WWW, 2016\n",
    "\n",
    "2. Image-based recommendations on styles and substitutes\n",
    "\n",
    "J. McAuley, C. Targett, J. Shi, A. van den Hengel\n",
    "\n",
    "SIGIR, 2015\n",
    "\n",
    "### Learning Sources\n",
    "\n",
    "1. https://developers.google.com/machine-learning/recommendation/collaborative/basics\n",
    "2. https://www.sciencedirect.com/science/article/pii/S1110866515000341\n",
    "3. https://itnext.io/what-are-the-top-recommendation-engine-algorithms-used-nowadays-646f588ce639\n",
    "4. https://www.kaggle.com/code/saurav9786/recommender-system-using-amazon-reviews/notebook\n",
    "\n",
    "### Imputation Sources\n",
    "\n",
    "1. https://www.ncbi.nlm.nih.gov/pmc/articles/PMC5796790/\n",
    "2. https://www.researchgate.net/publication/297047624_The_role_of_imputation_in_detecting_fraudulent_financial_reporting\n",
    "3. https://www.theanalysisfactor.com/missing-data-two-recommended-solutions/\n",
    "4. https://github.com/awslabs/datawig\n",
    "5. https://github.com/eltonlaw/impyute\n"
   ]
  }
 ],
 "metadata": {
  "kernelspec": {
   "display_name": "machinelearning",
   "language": "python",
   "name": "python3"
  },
  "language_info": {
   "codemirror_mode": {
    "name": "ipython",
    "version": 3
   },
   "file_extension": ".py",
   "mimetype": "text/x-python",
   "name": "python",
   "nbconvert_exporter": "python",
   "pygments_lexer": "ipython3",
   "version": "3.9.12"
  },
  "vscode": {
   "interpreter": {
    "hash": "df1bbd34cffd422408edeab77fbfa16576054ff435288db3f490d4bf4d772d86"
   }
  }
 },
 "nbformat": 4,
 "nbformat_minor": 5
}
