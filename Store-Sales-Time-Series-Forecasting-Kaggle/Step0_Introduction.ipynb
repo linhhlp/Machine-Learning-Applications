{
 "cells": [
  {
   "attachments": {},
   "cell_type": "markdown",
   "id": "dfd53c25",
   "metadata": {},
   "source": [
    "# Store Sales - Time Series Forecasting"
   ]
  },
  {
   "attachments": {},
   "cell_type": "markdown",
   "id": "13536e6e",
   "metadata": {},
   "source": [
    "## Overview\n",
    "\n",
    "The Program is divided into several sections:\n",
    "\n",
    "1.  [Analyzing & Visualizing Data](Step1_Analyze_Visualize_data.ipynb)\n",
    "2.  [Other Impact Factors](Step2_Impact_factors.ipynb)\n",
    "3.  [A Simple Model](Step3_Simple_model.ipynb)\n",
    "4.  [An Enhanced Model](Step4_Enhanced_model.ipynb)\n",
    "5.  [Hybrid Models](Step5_Hybrid-Models.ipynb)\n",
    "6.  [Conclusion](Step6_Conclusion.ipynb)"
   ]
  },
  {
   "attachments": {},
   "cell_type": "markdown",
   "id": "0675ea04",
   "metadata": {},
   "source": [
    "## Introduction"
   ]
  },
  {
   "attachments": {},
   "cell_type": "markdown",
   "id": "6577c049",
   "metadata": {},
   "source": [
    "In general, there are four components of movement of the time series and each of them presents a distinct aspect of the behavior of the time series. They are:\n",
    "\n",
    "* **Secular trend**: a statistical tendency that can be easily identified as an overall long period.\n",
    "\n",
    "* **Seasonality**: such as monthly or weekly frequency of repetition.\n",
    "\n",
    "* **Cyclical fluctuations**: time series repeats periodically but not seasonal variations;\n",
    "\n",
    "* **Irregular variations**: which are other nonrandom sources of variations of series, such as on holidays, events."
   ]
  },
  {
   "attachments": {},
   "cell_type": "markdown",
   "id": "f450f0f0",
   "metadata": {},
   "source": [
    "In this project, We will use time-series forecasting to forecast store sales on data from Corporación Favorita, a large Ecuadorian-based grocery retailer by building a model that more accurately predicts the unit sales for thousands of items sold at different Favorita stores.\n",
    "\n",
    "To improve the accuracy, we might evaluate and consider external impacts such as:\n",
    "\n",
    "> 1. Holidays and Events. \n",
    ">\n",
    "> 2. Dates to pay wages in the public sector.\n",
    ">\n",
    "> 3. Major crisis (A magnitude 7.8 earthquake struck Ecuador on April 16, 2016).\n",
    ">\n",
    "> 4. Daily oil price (Ecuador is an oil-dependent country)."
   ]
  },
  {
   "attachments": {},
   "cell_type": "markdown",
   "id": "9a827545",
   "metadata": {},
   "source": [
    "## Links\n",
    "\n",
    "### [View interactive visualization at Kaggle:](https://www.kaggle.com/linhhlp/store-sales-time-series-forecasting-full-analysis/)\n",
    "> https://www.kaggle.com/linhhlp/store-sales-time-series-forecasting-full-analysis/\n",
    "\n",
    "**Database link [on Kaggle](https://www.kaggle.com/c/store-sales-time-series-forecasting/data)**\n",
    "\n",
    "**Full code hosted in [GitHub](https://github.com/linhhlp/Store-Sales-Time-Series-Forecasting-Kaggle/)**"
   ]
  },
  {
   "attachments": {},
   "cell_type": "markdown",
   "id": "420797fc",
   "metadata": {},
   "source": [
    "## Benefits to having a predictive model\n",
    "\n",
    "1. Forecasts are especially relevant to brick-and-mortar grocery stores, which must dance delicately with how much inventory to buy. Predict a little over, and grocers are stuck with overstocked, perishable goods. Guess a little under, and popular items quickly sell out, leading to lost revenue and upset customers. More accurate forecasting, thanks to machine learning, could help ensure retailers please customers by having just enough of the right products at the right time.\n",
    "\n",
    "2. Current subjective forecasting methods for retail have little data to back them up and are unlikely to be automated. The problem becomes even more complex as retailers add new locations with unique needs, new products, ever-transitioning seasonal tastes, and unpredictable product marketing.\n",
    "\n",
    "3. More accurate forecasting can decrease food waste related to overstocking and improve customer satisfaction. The results of this ongoing competition, over time, might even ensure your local store has exactly what you need the next time you shop."
   ]
  },
  {
   "attachments": {},
   "cell_type": "markdown",
   "id": "9482f801",
   "metadata": {},
   "source": [
    "## Setup"
   ]
  },
  {
   "attachments": {},
   "cell_type": "markdown",
   "id": "2d62a598",
   "metadata": {},
   "source": [
    "### Clone or download the repo\n",
    "First get local copies of the program:\n",
    "\n",
    "https://github.com/linhhlp/Machine-Learning-Applications\n",
    "\n",
    "### Install the dependencies\n",
    "\n",
    "This program has been developed and tested on:\n",
    "\n",
    "* python 3.9.10\n",
    "* pandas 1.4.1\n",
    "* notebook 6.4.8\n",
    "* numpy 1.22.2\n",
    "* tensorflow 2.6.0\n",
    "* sklearn 1.0.2\n",
    "* matplotlib: 3.5.1\n",
    "* seaborn 0.11.2\n",
    "* statsmodels 0.13.2\n",
    "* learntools by Kaggle but modified\n",
    "\n",
    "The quickest, easiest way to install is to use Anaconda:\n",
    "\n",
    "#### Installing with anaconda\n",
    "\n",
    "Install [anaconda](http://anaconda.com/downloads)\n",
    "\n",
    "The quickest, easiest way to install dependencies is to use the command line to create an environment and install the packages:\n",
    "\n",
    "```bash\n",
    "$ conda env create\n",
    "$ source activate new_env\n",
    "```\n",
    "\n",
    "Install the remaining dependencies with:\n",
    "\n",
    "```bash\n",
    "conda install tensorflow sklearn seaborn\n",
    "```"
   ]
  },
  {
   "attachments": {},
   "cell_type": "markdown",
   "id": "5d792096",
   "metadata": {},
   "source": [
    "## References:\n",
    "\n",
    "I would like to thank this people and other sources I have learned to complete this comprehensive model.\n",
    "\n",
    "1. Kaggle: A very useful resouce with multiple and various types of content, from learning lession to free codes by other peoples.\n",
    "\n",
    "2. https://www.kaggle.com/ekrembayar/store-sales-ts-forecasting-a-comprehensive-guide/notebook\n",
    "\n",
    "3. https://www.kaggle.com/code/kashishrastogi/store-sales-analysis-time-serie"
   ]
  }
 ],
 "metadata": {
  "kernelspec": {
   "display_name": "Python 3 (ipykernel)",
   "language": "python",
   "name": "python3"
  },
  "language_info": {
   "codemirror_mode": {
    "name": "ipython",
    "version": 3
   },
   "file_extension": ".py",
   "mimetype": "text/x-python",
   "name": "python",
   "nbconvert_exporter": "python",
   "pygments_lexer": "ipython3",
   "version": "3.9.12"
  }
 },
 "nbformat": 4,
 "nbformat_minor": 5
}
