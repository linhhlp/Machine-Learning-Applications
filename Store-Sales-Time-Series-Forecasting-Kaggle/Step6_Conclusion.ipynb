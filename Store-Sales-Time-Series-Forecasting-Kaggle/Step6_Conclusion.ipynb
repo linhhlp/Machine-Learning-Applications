{
 "cells": [
  {
   "cell_type": "markdown",
   "id": "f34636f7",
   "metadata": {},
   "source": [
    "# Conclusions\n",
    "\n",
    "1. Analyzed and Visualized important aspects of the time-series forecasting for store sales.\n",
    "\n",
    "2. Built models to fit the train data and predict future sales. The agreement is very well."
   ]
  }
 ],
 "metadata": {
  "kernelspec": {
   "display_name": "Python 3 (ipykernel)",
   "language": "python",
   "name": "python3"
  },
  "language_info": {
   "codemirror_mode": {
    "name": "ipython",
    "version": 3
   },
   "file_extension": ".py",
   "mimetype": "text/x-python",
   "name": "python",
   "nbconvert_exporter": "python",
   "pygments_lexer": "ipython3",
   "version": "3.9.12"
  }
 },
 "nbformat": 4,
 "nbformat_minor": 5
}
